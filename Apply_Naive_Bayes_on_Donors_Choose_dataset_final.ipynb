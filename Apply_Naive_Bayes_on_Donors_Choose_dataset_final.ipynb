{
  "nbformat": 4,
  "nbformat_minor": 0,
  "metadata": {
    "kernelspec": {
      "display_name": "Python 3",
      "language": "python",
      "name": "python3"
    },
    "language_info": {
      "codemirror_mode": {
        "name": "ipython",
        "version": 3
      },
      "file_extension": ".py",
      "mimetype": "text/x-python",
      "name": "python",
      "nbconvert_exporter": "python",
      "pygments_lexer": "ipython3",
      "version": "3.6.5"
    },
    "colab": {
      "name": "Apply_Naive_Bayes_on_Donors_Choose_dataset_rev.ipynb",
      "provenance": [],
      "collapsed_sections": []
    }
  },
  "cells": [
    {
      "cell_type": "code",
      "metadata": {
        "id": "Z9_qTbkeonlD",
        "colab_type": "code",
        "colab": {}
      },
      "source": [
        "%matplotlib inline\n",
        "import warnings\n",
        "warnings.filterwarnings(\"ignore\")\n",
        "\n",
        "import sqlite3\n",
        "import pandas as pd\n",
        "import numpy as np\n",
        "import nltk\n",
        "import string\n",
        "import matplotlib.pyplot as plt\n",
        "import seaborn as sns\n",
        "from sklearn.feature_extraction.text import TfidfTransformer\n",
        "from sklearn.feature_extraction.text import TfidfVectorizer\n",
        "\n",
        "from sklearn.feature_extraction.text import CountVectorizer\n",
        "from sklearn.preprocessing import OneHotEncoder\n",
        "from sklearn.metrics import confusion_matrix\n",
        "from sklearn import metrics\n",
        "from sklearn.metrics import roc_curve, auc\n",
        "from sklearn.model_selection import train_test_split\n",
        "from nltk.stem.porter import PorterStemmer\n",
        "\n",
        "import re\n",
        "import string\n",
        "from nltk.corpus import stopwords\n",
        "from nltk.stem import PorterStemmer\n",
        "from nltk.stem.wordnet import WordNetLemmatizer\n",
        "\n",
        "from gensim.models import Word2Vec\n",
        "from gensim.models import KeyedVectors\n",
        "import pickle\n",
        "\n",
        "from tqdm import tqdm\n",
        "import os\n"
      ],
      "execution_count": 1,
      "outputs": []
    },
    {
      "cell_type": "markdown",
      "metadata": {
        "id": "uywdTMUqonlS",
        "colab_type": "text"
      },
      "source": [
        "#  Reading Data"
      ]
    },
    {
      "cell_type": "code",
      "metadata": {
        "id": "QwLji1E5onlU",
        "colab_type": "code",
        "colab": {
          "base_uri": "https://localhost:8080/",
          "height": 128
        },
        "outputId": "8d27595b-7f5a-4df5-986c-1d90732fec02"
      },
      "source": [
        "from google.colab import drive\n",
        "drive.mount('/content/drive')\n"
      ],
      "execution_count": 2,
      "outputs": [
        {
          "output_type": "stream",
          "text": [
            "Go to this URL in a browser: https://accounts.google.com/o/oauth2/auth?client_id=947318989803-6bn6qk8qdgf4n4g3pfee6491hc0brc4i.apps.googleusercontent.com&redirect_uri=urn%3aietf%3awg%3aoauth%3a2.0%3aoob&scope=email%20https%3a%2f%2fwww.googleapis.com%2fauth%2fdocs.test%20https%3a%2f%2fwww.googleapis.com%2fauth%2fdrive%20https%3a%2f%2fwww.googleapis.com%2fauth%2fdrive.photos.readonly%20https%3a%2f%2fwww.googleapis.com%2fauth%2fpeopleapi.readonly&response_type=code\n",
            "\n",
            "Enter your authorization code:\n",
            "··········\n",
            "Mounted at /content/drive\n"
          ],
          "name": "stdout"
        }
      ]
    },
    {
      "cell_type": "code",
      "metadata": {
        "id": "XveIzFyoqWjX",
        "colab_type": "code",
        "colab": {
          "base_uri": "https://localhost:8080/",
          "height": 90
        },
        "outputId": "f1c5a385-d844-4926-d41d-e09907412148"
      },
      "source": [
        "\n",
        "d=r'/content/drive/My Drive/Colab Notebooks/preprocessed_data.csv'\n",
        "data  = pd.read_csv(d)\n",
        "data.columns"
      ],
      "execution_count": 3,
      "outputs": [
        {
          "output_type": "execute_result",
          "data": {
            "text/plain": [
              "Index(['school_state', 'teacher_prefix', 'project_grade_category',\n",
              "       'teacher_number_of_previously_posted_projects', 'project_is_approved',\n",
              "       'clean_categories', 'clean_subcategories', 'essay', 'price'],\n",
              "      dtype='object')"
            ]
          },
          "metadata": {
            "tags": []
          },
          "execution_count": 3
        }
      ]
    },
    {
      "cell_type": "markdown",
      "metadata": {
        "id": "GeRmMH7Fonlj",
        "colab_type": "text"
      },
      "source": [
        "# Splitting data into Train and cross validation(or test): Stratified Sampling"
      ]
    },
    {
      "cell_type": "code",
      "metadata": {
        "id": "PNYZLGSconll",
        "colab_type": "code",
        "colab": {
          "base_uri": "https://localhost:8080/",
          "height": 35
        },
        "outputId": "23b9d617-df02-45ac-c110-9a7cf348aecf"
      },
      "source": [
        "y = data['project_is_approved'].values\n",
        "X = data.drop(['project_is_approved'], axis=1)\n",
        "X_train, X_test, y_train, y_test = train_test_split(X, y, test_size=0.33, stratify=y)\n",
        "X_train.shape"
      ],
      "execution_count": 4,
      "outputs": [
        {
          "output_type": "execute_result",
          "data": {
            "text/plain": [
              "(73196, 8)"
            ]
          },
          "metadata": {
            "tags": []
          },
          "execution_count": 4
        }
      ]
    },
    {
      "cell_type": "code",
      "metadata": {
        "id": "virIbQD5onlu",
        "colab_type": "code",
        "colab": {
          "base_uri": "https://localhost:8080/",
          "height": 90
        },
        "outputId": "90618c01-adb5-4add-ad2a-2a33a4a95af4"
      },
      "source": [
        "print(X_train.shape)\n",
        "print(y_train.shape)\n",
        "print(X_test.shape)\n",
        "print(y_test.shape)\n"
      ],
      "execution_count": 5,
      "outputs": [
        {
          "output_type": "stream",
          "text": [
            "(73196, 8)\n",
            "(73196,)\n",
            "(36052, 8)\n",
            "(36052,)\n"
          ],
          "name": "stdout"
        }
      ]
    },
    {
      "cell_type": "markdown",
      "metadata": {
        "id": "J5pf93mwonm1",
        "colab_type": "text"
      },
      "source": [
        "# Make Data Model Ready: encoding eassay, and project_title</h2>"
      ]
    },
    {
      "cell_type": "markdown",
      "metadata": {
        "id": "zScD7QXCzFFO",
        "colab_type": "text"
      },
      "source": [
        "<h2> Set1: BOW "
      ]
    },
    {
      "cell_type": "code",
      "metadata": {
        "id": "0Rm6ZyJ-onm3",
        "colab_type": "code",
        "colab": {
          "base_uri": "https://localhost:8080/",
          "height": 72
        },
        "outputId": "502aa203-6406-4787-91c7-4e5d852cfd60"
      },
      "source": [
        "vectorizer_essay = CountVectorizer(min_df=10,ngram_range=(1,4), max_features=5000)\n",
        "vectorizer_essay.fit(X_train['essay'].values) \n",
        "\n",
        "X_train_essay_bow = vectorizer_essay.transform(X_train['essay'].values)\n",
        "\n",
        "X_test_essay_bow = vectorizer_essay.transform(X_test['essay'].values)\n",
        "\n",
        "print(\"After vectorizations\")\n",
        "print(X_train_essay_bow.shape, y_train.shape)\n",
        "print(X_test_essay_bow.shape, y_test.shape)"
      ],
      "execution_count": 6,
      "outputs": [
        {
          "output_type": "stream",
          "text": [
            "After vectorizations\n",
            "(73196, 5000) (73196,)\n",
            "(36052, 5000) (36052,)\n"
          ],
          "name": "stdout"
        }
      ]
    },
    {
      "cell_type": "markdown",
      "metadata": {
        "id": "yLpRYoJmwoQR",
        "colab_type": "text"
      },
      "source": [
        "# Make Data Model Ready: encoding numerical, categorical features</h2>"
      ]
    },
    {
      "cell_type": "markdown",
      "metadata": {
        "id": "ug_vJL9lonl6",
        "colab_type": "text"
      },
      "source": [
        "## Encoding categorical features:"
      ]
    },
    {
      "cell_type": "markdown",
      "metadata": {
        "id": "bhp48IdMonl8",
        "colab_type": "text"
      },
      "source": [
        "# School State"
      ]
    },
    {
      "cell_type": "code",
      "metadata": {
        "id": "yd6nReRyonl-",
        "colab_type": "code",
        "colab": {
          "base_uri": "https://localhost:8080/",
          "height": 110
        },
        "outputId": "53a2f714-0a13-4f62-c8e3-c81753c76e86"
      },
      "source": [
        "vectorizer_School_State = CountVectorizer()\n",
        "vectorizer_School_State.fit(X_train['school_state'].values) \n",
        "X_train_state_ohe = vectorizer_School_State.transform(X_train['school_state'].values)\n",
        "X_test_state_ohe = vectorizer_School_State.transform(X_test['school_state'].values)\n",
        "print(\"After vectorizations\")\n",
        "print(X_train_state_ohe.shape, y_train.shape)\n",
        "print(X_test_state_ohe.shape, y_test.shape)\n",
        "print(vectorizer_School_State.get_feature_names())\n"
      ],
      "execution_count": 7,
      "outputs": [
        {
          "output_type": "stream",
          "text": [
            "After vectorizations\n",
            "(73196, 51) (73196,)\n",
            "(36052, 51) (36052,)\n",
            "['ak', 'al', 'ar', 'az', 'ca', 'co', 'ct', 'dc', 'de', 'fl', 'ga', 'hi', 'ia', 'id', 'il', 'in', 'ks', 'ky', 'la', 'ma', 'md', 'me', 'mi', 'mn', 'mo', 'ms', 'mt', 'nc', 'nd', 'ne', 'nh', 'nj', 'nm', 'nv', 'ny', 'oh', 'ok', 'or', 'pa', 'ri', 'sc', 'sd', 'tn', 'tx', 'ut', 'va', 'vt', 'wa', 'wi', 'wv', 'wy']\n"
          ],
          "name": "stdout"
        }
      ]
    },
    {
      "cell_type": "markdown",
      "metadata": {
        "id": "tKvAZC10onmI",
        "colab_type": "text"
      },
      "source": [
        "# teacher_prefix"
      ]
    },
    {
      "cell_type": "code",
      "metadata": {
        "id": "BLAuHD2MonmK",
        "colab_type": "code",
        "colab": {
          "base_uri": "https://localhost:8080/",
          "height": 90
        },
        "outputId": "eeb2b1d5-0084-40bf-c52f-9b73a41ce6d4"
      },
      "source": [
        "vectorizer_teacher_prefix= CountVectorizer()\n",
        "vectorizer_teacher_prefix.fit(X_train['teacher_prefix'].values) \n",
        "\n",
        "X_train_teacher_ohe = vectorizer_teacher_prefix.transform(X_train['teacher_prefix'].values)\n",
        "X_test_teacher_ohe = vectorizer_teacher_prefix.transform(X_test['teacher_prefix'].values)\n",
        "\n",
        "print(\"After vectorizations\")\n",
        "print(X_train_teacher_ohe.shape, y_train.shape)\n",
        "print(X_test_teacher_ohe.shape, y_test.shape)\n",
        "print(vectorizer_teacher_prefix.get_feature_names())"
      ],
      "execution_count": 8,
      "outputs": [
        {
          "output_type": "stream",
          "text": [
            "After vectorizations\n",
            "(73196, 5) (73196,)\n",
            "(36052, 5) (36052,)\n",
            "['dr', 'mr', 'mrs', 'ms', 'teacher']\n"
          ],
          "name": "stdout"
        }
      ]
    },
    {
      "cell_type": "markdown",
      "metadata": {
        "id": "y7BSr8URonmW",
        "colab_type": "text"
      },
      "source": [
        "# project_grade_category"
      ]
    },
    {
      "cell_type": "code",
      "metadata": {
        "id": "jfkr8AlqonmY",
        "colab_type": "code",
        "colab": {
          "base_uri": "https://localhost:8080/",
          "height": 90
        },
        "outputId": "a23487e8-5f44-4cd1-fa12-ce564d8883fc"
      },
      "source": [
        "vectorizer_project_grade_category = CountVectorizer()\n",
        "vectorizer_project_grade_category .fit(X_train['project_grade_category'].values)\n",
        "X_train_grade_ohe = vectorizer_project_grade_category .transform(X_train['project_grade_category'].values)\n",
        "X_test_grade_ohe = vectorizer_project_grade_category.transform(X_test['project_grade_category'].values)\n",
        "\n",
        "print(\"After vectorizations\")\n",
        "print(X_train_grade_ohe.shape, y_train.shape)\n",
        "print(X_test_grade_ohe.shape, y_test.shape)\n",
        "print(vectorizer_project_grade_category .get_feature_names())"
      ],
      "execution_count": 9,
      "outputs": [
        {
          "output_type": "stream",
          "text": [
            "After vectorizations\n",
            "(73196, 4) (73196,)\n",
            "(36052, 4) (36052,)\n",
            "['grades_3_5', 'grades_6_8', 'grades_9_12', 'grades_prek_2']\n"
          ],
          "name": "stdout"
        }
      ]
    },
    {
      "cell_type": "markdown",
      "metadata": {
        "id": "g5qyODE-onmh",
        "colab_type": "text"
      },
      "source": [
        "# clean_categories"
      ]
    },
    {
      "cell_type": "code",
      "metadata": {
        "id": "M3o3uLX0onmj",
        "colab_type": "code",
        "colab": {
          "base_uri": "https://localhost:8080/",
          "height": 92
        },
        "outputId": "cafa070f-2f2c-48e1-e96a-fa37bc93164d"
      },
      "source": [
        "vectorizer_clean_categories = CountVectorizer()\n",
        "vectorizer_clean_categories.fit(X_train['clean_categories'].values)\n",
        "X_train_clean_categories_ohe = vectorizer_clean_categories.transform(X_train['clean_categories'].values)\n",
        "X_test_clean_categories_ohe = vectorizer_clean_categories.transform(X_test['clean_categories'].values)\n",
        "\n",
        "print(\"After vectorizations\")\n",
        "print(X_train_clean_categories_ohe.shape, y_train.shape)\n",
        "print(vectorizer_clean_categories.get_feature_names())"
      ],
      "execution_count": 10,
      "outputs": [
        {
          "output_type": "stream",
          "text": [
            "After vectorizations\n",
            "(73196, 9) (73196,)\n",
            "['appliedlearning', 'care_hunger', 'health_sports', 'history_civics', 'literacy_language', 'math_science', 'music_arts', 'specialneeds', 'warmth']\n"
          ],
          "name": "stdout"
        }
      ]
    },
    {
      "cell_type": "markdown",
      "metadata": {
        "id": "tsBt3f_Donmr",
        "colab_type": "text"
      },
      "source": [
        "# clean_subcategories"
      ]
    },
    {
      "cell_type": "code",
      "metadata": {
        "id": "6UiRssW5onmt",
        "colab_type": "code",
        "colab": {
          "base_uri": "https://localhost:8080/",
          "height": 110
        },
        "outputId": "184d6cd0-4354-4e2e-982a-03f1a7f978c9"
      },
      "source": [
        "vectorizer_clean_subcategories = CountVectorizer()\n",
        "vectorizer_clean_subcategories.fit(X_train['clean_subcategories'].values)\n",
        "X_train_clean_subcategories_ohe = vectorizer_clean_subcategories.transform(X_train['clean_subcategories'].values)\n",
        "X_test_clean_subcategories_ohe = vectorizer_clean_subcategories.transform(X_test['clean_subcategories'].values)\n",
        "\n",
        "print(\"After vectorizations\")\n",
        "print(X_train_clean_subcategories_ohe.shape, y_train.shape)\n",
        "print(X_test_clean_subcategories_ohe.shape, y_test.shape)\n",
        "print(vectorizer_clean_subcategories.get_feature_names())"
      ],
      "execution_count": 11,
      "outputs": [
        {
          "output_type": "stream",
          "text": [
            "After vectorizations\n",
            "(73196, 30) (73196,)\n",
            "(36052, 30) (36052,)\n",
            "['appliedsciences', 'care_hunger', 'charactereducation', 'civics_government', 'college_careerprep', 'communityservice', 'earlydevelopment', 'economics', 'environmentalscience', 'esl', 'extracurricular', 'financialliteracy', 'foreignlanguages', 'gym_fitness', 'health_lifescience', 'health_wellness', 'history_geography', 'literacy', 'literature_writing', 'mathematics', 'music', 'nutritioneducation', 'other', 'parentinvolvement', 'performingarts', 'socialsciences', 'specialneeds', 'teamsports', 'visualarts', 'warmth']\n"
          ],
          "name": "stdout"
        }
      ]
    },
    {
      "cell_type": "markdown",
      "metadata": {
        "id": "t5oY-lgYI6TW",
        "colab_type": "text"
      },
      "source": [
        "# Encoding categorical features:"
      ]
    },
    {
      "cell_type": "markdown",
      "metadata": {
        "id": "AOwvksHnonnA",
        "colab_type": "text"
      },
      "source": [
        "# teacher_number_of_previously_posted_projects"
      ]
    },
    {
      "cell_type": "code",
      "metadata": {
        "id": "zfFkqR4NonnZ",
        "colab_type": "code",
        "colab": {
          "base_uri": "https://localhost:8080/",
          "height": 90
        },
        "outputId": "9ed9cb1b-a59f-4510-e6ee-e6ae6834c81f"
      },
      "source": [
        "from sklearn.preprocessing import Normalizer\n",
        "normalizer = Normalizer()\n",
        "\n",
        "normalizer.fit(X_train['teacher_number_of_previously_posted_projects'].values.reshape(1,-1))\n",
        "print(X_train['teacher_number_of_previously_posted_projects'].values.shape)\n",
        "X_train_teacher_number_of_previously_posted_projects_norm = normalizer.transform(X_train['teacher_number_of_previously_posted_projects'].values.reshape(1,-1))\n",
        "X_test_teacher_number_of_previously_posted_projects_norm = normalizer.transform(X_test['teacher_number_of_previously_posted_projects'].values.reshape(1,-1))\n",
        "X_train_teacher_number_of_previously_posted_projects_norm=X_train_teacher_number_of_previously_posted_projects_norm.reshape(-1,1)\n",
        "X_test_teacher_number_of_previously_posted_projects_norm=X_test_teacher_number_of_previously_posted_projects_norm.reshape(-1,1)\n",
        "print(\"After vectorizations\")\n",
        "print(X_train_teacher_number_of_previously_posted_projects_norm.shape, y_train.shape)\n",
        "print(X_test_teacher_number_of_previously_posted_projects_norm.shape, y_test.shape)\n",
        "\n"
      ],
      "execution_count": 12,
      "outputs": [
        {
          "output_type": "stream",
          "text": [
            "(73196,)\n",
            "After vectorizations\n",
            "(73196, 1) (73196,)\n",
            "(36052, 1) (36052,)\n"
          ],
          "name": "stdout"
        }
      ]
    },
    {
      "cell_type": "markdown",
      "metadata": {
        "id": "DElNSFeSxRv3",
        "colab_type": "text"
      },
      "source": [
        "<h2>Price</h2>"
      ]
    },
    {
      "cell_type": "code",
      "metadata": {
        "id": "9FptzPeNw93-",
        "colab_type": "code",
        "colab": {
          "base_uri": "https://localhost:8080/",
          "height": 235
        },
        "outputId": "13f686b2-33dc-48a6-da68-32f166cdbb7a"
      },
      "source": [
        "normalizer = Normalizer()\n",
        "normalizer.fit(X_train['price'].values.reshape(1,-1))\n",
        "print(X_train['price'].values.shape)\n",
        "X_train_price_norm = normalizer.transform(X_train['price'].values.reshape(1,-1))\n",
        "X_test_price_norm = normalizer.transform(X_test['price'].values.reshape(1,-1))\n",
        "X_train_price_norm=X_train_price_norm.reshape(-1,1)\n",
        "X_test_price_norm=X_test_price_norm.reshape(-1,1)\n",
        "print(\"After vectorizations\")\n",
        "print(X_train_price_norm.shape, y_train.shape)\n",
        "print(X_test_price_norm.shape, y_test.shape)\n",
        "print(\"=\"*100)\n",
        "print(X_train_price_norm)"
      ],
      "execution_count": 13,
      "outputs": [
        {
          "output_type": "stream",
          "text": [
            "(73196,)\n",
            "After vectorizations\n",
            "(73196, 1) (73196,)\n",
            "(36052, 1) (36052,)\n",
            "====================================================================================================\n",
            "[[0.00582162]\n",
            " [0.00053602]\n",
            " [0.00393682]\n",
            " ...\n",
            " [0.00143373]\n",
            " [0.00111188]\n",
            " [0.00087728]]\n"
          ],
          "name": "stdout"
        }
      ]
    },
    {
      "cell_type": "markdown",
      "metadata": {
        "id": "QTZqnxZUyOul",
        "colab_type": "text"
      },
      "source": [
        "###  Concatinating all the features"
      ]
    },
    {
      "cell_type": "code",
      "metadata": {
        "id": "dc0vJrUVonnh",
        "colab_type": "code",
        "colab": {
          "base_uri": "https://localhost:8080/",
          "height": 72
        },
        "outputId": "fea091bc-700e-4f84-e50b-5f97511b9581"
      },
      "source": [
        "from scipy.sparse import hstack\n",
        "X_tr = hstack((X_train_essay_bow, X_train_state_ohe, X_train_teacher_ohe, X_train_grade_ohe, X_train_clean_categories_ohe, X_train_clean_subcategories_ohe ,X_train_teacher_number_of_previously_posted_projects_norm ,X_train_price_norm,)).tocsr()\n",
        "X_te = hstack((X_test_essay_bow, X_test_state_ohe, X_test_teacher_ohe, X_test_grade_ohe,X_test_clean_categories_ohe,X_test_clean_subcategories_ohe,X_test_teacher_number_of_previously_posted_projects_norm, X_test_price_norm)).tocsr()\n",
        "\n",
        "print(\"Final Data matrix\")\n",
        "print(X_tr.shape, y_train.shape)\n",
        "print(X_te.shape, y_test.shape)"
      ],
      "execution_count": 131,
      "outputs": [
        {
          "output_type": "stream",
          "text": [
            "Final Data matrix\n",
            "(73196, 5101) (73196,)\n",
            "(36052, 5101) (36052,)\n"
          ],
          "name": "stdout"
        }
      ]
    },
    {
      "cell_type": "markdown",
      "metadata": {
        "id": "77DtSEr0S9gp",
        "colab_type": "text"
      },
      "source": [
        "<h2>Appling NB on different kind of featurization as mentioned in the instructions</h2>\n"
      ]
    },
    {
      "cell_type": "code",
      "metadata": {
        "id": "AL5TE7V1TCX0",
        "colab_type": "code",
        "colab": {}
      },
      "source": [
        "def batch_predict(clf, data):\n",
        "  \n",
        "\n",
        "    y_data_pred = []\n",
        "    tr_loop = data.shape[0] - data.shape[0]%1000\n",
        "\n",
        "    for i in range(0, tr_loop, 1000):\n",
        "        y_data_pred.extend(clf.predict_proba(data[i:i+1000])[:,1])\n",
        "    if data.shape[0]%1000 !=0:\n",
        "        y_data_pred.extend(clf.predict_proba(data[tr_loop:])[:,1])\n",
        "    \n",
        "    return y_data_pred"
      ],
      "execution_count": 132,
      "outputs": []
    },
    {
      "cell_type": "markdown",
      "metadata": {
        "id": "YSit0wI_J_bt",
        "colab_type": "text"
      },
      "source": [
        "# Find the best hyper paramter using k-fold cross validation(GridsearchCV)"
      ]
    },
    {
      "cell_type": "code",
      "metadata": {
        "id": "kIPWoLB9hV2L",
        "colab_type": "code",
        "colab": {
          "base_uri": "https://localhost:8080/",
          "height": 806
        },
        "outputId": "6cbb1c46-e794-4b03-b0c1-d68e7f37ce2b"
      },
      "source": [
        "from sklearn.model_selection import GridSearchCV\n",
        "from scipy.stats import randint as sp_randint\n",
        "from sklearn.model_selection import RandomizedSearchCV\n",
        "from sklearn.naive_bayes import MultinomialNB\n",
        "import math\n",
        "\n",
        "neigh = MultinomialNB(class_prior=[0.5,0.5])\n",
        "parameters = {'alpha':[0.00001,0.0005, 0.0001,0.005,0.001,0.05,0.01,0.1,0.5,1,5,10,50,100]}\n",
        "log_alphas=[]\n",
        "for i in parameters['alpha']:\n",
        "  a= math.log(i)\n",
        "  log_alphas.append(a)\n",
        "print(log_alphas)\n",
        "\n",
        "clf = GridSearchCV(neigh, parameters, cv=10, scoring='roc_auc',return_train_score=True)\n",
        "clf.fit(X_tr, y_train)\n",
        "\n",
        "results = pd.DataFrame.from_dict(clf.cv_results_)\n",
        "print(results.columns)\n",
        "results = results.sort_values(['param_alpha'])\n",
        "\n",
        "train_auc= results['mean_train_score']\n",
        "train_auc_std= results['std_train_score']\n",
        "cv_auc = results['mean_test_score'] \n",
        "cv_auc_std= results['std_test_score']\n",
        "a =  results['param_alpha']\n",
        "\n",
        "plt.plot(log_alphas, train_auc, label='Train AUC')\n",
        "\n",
        "\n",
        "plt.plot(log_alphas, cv_auc, label='CV AUC')\n",
        "\n",
        "plt.scatter(log_alphas, train_auc, label='Train AUC points')\n",
        "plt.scatter(log_alphas, cv_auc, label='CV AUC points')\n",
        "\n",
        "plt.grid(color='black', linestyle='-', linewidth=0.5)\n",
        "plt.legend()\n",
        "plt.xlabel(\"a: hyperparameter\")\n",
        "plt.ylabel(\"AUC\")\n",
        "plt.title(\"Hyper parameter Vs AUC plot\")\n",
        "\n",
        "plt.show()\n",
        "\n",
        "results.head()"
      ],
      "execution_count": 133,
      "outputs": [
        {
          "output_type": "stream",
          "text": [
            "[-11.512925464970229, -7.600902459542082, -9.210340371976182, -5.298317366548036, -6.907755278982137, -2.995732273553991, -4.605170185988091, -2.3025850929940455, -0.6931471805599453, 0.0, 1.6094379124341003, 2.302585092994046, 3.912023005428146, 4.605170185988092]\n",
            "Index(['mean_fit_time', 'std_fit_time', 'mean_score_time', 'std_score_time',\n",
            "       'param_alpha', 'params', 'split0_test_score', 'split1_test_score',\n",
            "       'split2_test_score', 'split3_test_score', 'split4_test_score',\n",
            "       'split5_test_score', 'split6_test_score', 'split7_test_score',\n",
            "       'split8_test_score', 'split9_test_score', 'mean_test_score',\n",
            "       'std_test_score', 'rank_test_score', 'split0_train_score',\n",
            "       'split1_train_score', 'split2_train_score', 'split3_train_score',\n",
            "       'split4_train_score', 'split5_train_score', 'split6_train_score',\n",
            "       'split7_train_score', 'split8_train_score', 'split9_train_score',\n",
            "       'mean_train_score', 'std_train_score'],\n",
            "      dtype='object')\n"
          ],
          "name": "stdout"
        },
        {
          "output_type": "display_data",
          "data": {
            "image/png": "[encoded data removed]",
            "text/plain": [
              "<Figure size 432x288 with 1 Axes>"
            ]
          },
          "metadata": {
            "tags": []
          }
        },
        {
          "output_type": "execute_result",
          "data": {
            "text/html": [
              "<div>\n",
              "<style scoped>\n",
              "    .dataframe tbody tr th:only-of-type {\n",
              "        vertical-align: middle;\n",
              "    }\n",
              "\n",
              "    .dataframe tbody tr th {\n",
              "        vertical-align: top;\n",
              "    }\n",
              "\n",
              "    .dataframe thead th {\n",
              "        text-align: right;\n",
              "    }\n",
              "</style>\n",
              "<table border=\"1\" class=\"dataframe\">\n",
              "  <thead>\n",
              "    <tr style=\"text-align: right;\">\n",
              "      <th></th>\n",
              "      <th>mean_fit_time</th>\n",
              "      <th>std_fit_time</th>\n",
              "      <th>mean_score_time</th>\n",
              "      <th>std_score_time</th>\n",
              "      <th>param_alpha</th>\n",
              "      <th>params</th>\n",
              "      <th>split0_test_score</th>\n",
              "      <th>split1_test_score</th>\n",
              "      <th>split2_test_score</th>\n",
              "      <th>split3_test_score</th>\n",
              "      <th>split4_test_score</th>\n",
              "      <th>split5_test_score</th>\n",
              "      <th>split6_test_score</th>\n",
              "      <th>split7_test_score</th>\n",
              "      <th>split8_test_score</th>\n",
              "      <th>split9_test_score</th>\n",
              "      <th>mean_test_score</th>\n",
              "      <th>std_test_score</th>\n",
              "      <th>rank_test_score</th>\n",
              "      <th>split0_train_score</th>\n",
              "      <th>split1_train_score</th>\n",
              "      <th>split2_train_score</th>\n",
              "      <th>split3_train_score</th>\n",
              "      <th>split4_train_score</th>\n",
              "      <th>split5_train_score</th>\n",
              "      <th>split6_train_score</th>\n",
              "      <th>split7_train_score</th>\n",
              "      <th>split8_train_score</th>\n",
              "      <th>split9_train_score</th>\n",
              "      <th>mean_train_score</th>\n",
              "      <th>std_train_score</th>\n",
              "    </tr>\n",
              "  </thead>\n",
              "  <tbody>\n",
              "    <tr>\n",
              "      <th>0</th>\n",
              "      <td>0.093019</td>\n",
              "      <td>0.002946</td>\n",
              "      <td>0.009702</td>\n",
              "      <td>0.000248</td>\n",
              "      <td>1e-05</td>\n",
              "      <td>{'alpha': 1e-05}</td>\n",
              "      <td>0.692061</td>\n",
              "      <td>0.692461</td>\n",
              "      <td>0.690175</td>\n",
              "      <td>0.674570</td>\n",
              "      <td>0.693107</td>\n",
              "      <td>0.701943</td>\n",
              "      <td>0.686520</td>\n",
              "      <td>0.690976</td>\n",
              "      <td>0.678889</td>\n",
              "      <td>0.700682</td>\n",
              "      <td>0.690139</td>\n",
              "      <td>0.008069</td>\n",
              "      <td>1</td>\n",
              "      <td>0.714506</td>\n",
              "      <td>0.716050</td>\n",
              "      <td>0.715297</td>\n",
              "      <td>0.716999</td>\n",
              "      <td>0.715826</td>\n",
              "      <td>0.714583</td>\n",
              "      <td>0.715091</td>\n",
              "      <td>0.715557</td>\n",
              "      <td>0.715910</td>\n",
              "      <td>0.714712</td>\n",
              "      <td>0.715453</td>\n",
              "      <td>0.000739</td>\n",
              "    </tr>\n",
              "    <tr>\n",
              "      <th>2</th>\n",
              "      <td>0.092654</td>\n",
              "      <td>0.003030</td>\n",
              "      <td>0.009640</td>\n",
              "      <td>0.000218</td>\n",
              "      <td>0.0001</td>\n",
              "      <td>{'alpha': 0.0001}</td>\n",
              "      <td>0.692061</td>\n",
              "      <td>0.692462</td>\n",
              "      <td>0.690175</td>\n",
              "      <td>0.674570</td>\n",
              "      <td>0.693107</td>\n",
              "      <td>0.701943</td>\n",
              "      <td>0.686520</td>\n",
              "      <td>0.690976</td>\n",
              "      <td>0.678889</td>\n",
              "      <td>0.700683</td>\n",
              "      <td>0.690138</td>\n",
              "      <td>0.008069</td>\n",
              "      <td>2</td>\n",
              "      <td>0.714506</td>\n",
              "      <td>0.716050</td>\n",
              "      <td>0.715297</td>\n",
              "      <td>0.716999</td>\n",
              "      <td>0.715826</td>\n",
              "      <td>0.714583</td>\n",
              "      <td>0.715091</td>\n",
              "      <td>0.715557</td>\n",
              "      <td>0.715910</td>\n",
              "      <td>0.714712</td>\n",
              "      <td>0.715453</td>\n",
              "      <td>0.000739</td>\n",
              "    </tr>\n",
              "    <tr>\n",
              "      <th>1</th>\n",
              "      <td>0.091031</td>\n",
              "      <td>0.000581</td>\n",
              "      <td>0.009578</td>\n",
              "      <td>0.000204</td>\n",
              "      <td>0.0005</td>\n",
              "      <td>{'alpha': 0.0005}</td>\n",
              "      <td>0.692061</td>\n",
              "      <td>0.692461</td>\n",
              "      <td>0.690175</td>\n",
              "      <td>0.674569</td>\n",
              "      <td>0.693107</td>\n",
              "      <td>0.701942</td>\n",
              "      <td>0.686520</td>\n",
              "      <td>0.690976</td>\n",
              "      <td>0.678889</td>\n",
              "      <td>0.700683</td>\n",
              "      <td>0.690138</td>\n",
              "      <td>0.008069</td>\n",
              "      <td>3</td>\n",
              "      <td>0.714505</td>\n",
              "      <td>0.716050</td>\n",
              "      <td>0.715297</td>\n",
              "      <td>0.716999</td>\n",
              "      <td>0.715826</td>\n",
              "      <td>0.714583</td>\n",
              "      <td>0.715091</td>\n",
              "      <td>0.715557</td>\n",
              "      <td>0.715910</td>\n",
              "      <td>0.714712</td>\n",
              "      <td>0.715453</td>\n",
              "      <td>0.000739</td>\n",
              "    </tr>\n",
              "    <tr>\n",
              "      <th>4</th>\n",
              "      <td>0.093198</td>\n",
              "      <td>0.003648</td>\n",
              "      <td>0.009733</td>\n",
              "      <td>0.000269</td>\n",
              "      <td>0.001</td>\n",
              "      <td>{'alpha': 0.001}</td>\n",
              "      <td>0.692061</td>\n",
              "      <td>0.692461</td>\n",
              "      <td>0.690175</td>\n",
              "      <td>0.674569</td>\n",
              "      <td>0.693107</td>\n",
              "      <td>0.701942</td>\n",
              "      <td>0.686520</td>\n",
              "      <td>0.690976</td>\n",
              "      <td>0.678889</td>\n",
              "      <td>0.700682</td>\n",
              "      <td>0.690138</td>\n",
              "      <td>0.008069</td>\n",
              "      <td>4</td>\n",
              "      <td>0.714505</td>\n",
              "      <td>0.716050</td>\n",
              "      <td>0.715297</td>\n",
              "      <td>0.716999</td>\n",
              "      <td>0.715825</td>\n",
              "      <td>0.714582</td>\n",
              "      <td>0.715091</td>\n",
              "      <td>0.715557</td>\n",
              "      <td>0.715909</td>\n",
              "      <td>0.714712</td>\n",
              "      <td>0.715453</td>\n",
              "      <td>0.000739</td>\n",
              "    </tr>\n",
              "    <tr>\n",
              "      <th>3</th>\n",
              "      <td>0.092111</td>\n",
              "      <td>0.003626</td>\n",
              "      <td>0.009550</td>\n",
              "      <td>0.000154</td>\n",
              "      <td>0.005</td>\n",
              "      <td>{'alpha': 0.005}</td>\n",
              "      <td>0.692060</td>\n",
              "      <td>0.692460</td>\n",
              "      <td>0.690172</td>\n",
              "      <td>0.674568</td>\n",
              "      <td>0.693106</td>\n",
              "      <td>0.701941</td>\n",
              "      <td>0.686519</td>\n",
              "      <td>0.690974</td>\n",
              "      <td>0.678890</td>\n",
              "      <td>0.700680</td>\n",
              "      <td>0.690137</td>\n",
              "      <td>0.008069</td>\n",
              "      <td>5</td>\n",
              "      <td>0.714503</td>\n",
              "      <td>0.716048</td>\n",
              "      <td>0.715296</td>\n",
              "      <td>0.716997</td>\n",
              "      <td>0.715824</td>\n",
              "      <td>0.714581</td>\n",
              "      <td>0.715089</td>\n",
              "      <td>0.715555</td>\n",
              "      <td>0.715908</td>\n",
              "      <td>0.714710</td>\n",
              "      <td>0.715451</td>\n",
              "      <td>0.000739</td>\n",
              "    </tr>\n",
              "  </tbody>\n",
              "</table>\n",
              "</div>"
            ],
            "text/plain": [
              "   mean_fit_time  std_fit_time  ...  mean_train_score  std_train_score\n",
              "0       0.093019      0.002946  ...          0.715453         0.000739\n",
              "2       0.092654      0.003030  ...          0.715453         0.000739\n",
              "1       0.091031      0.000581  ...          0.715453         0.000739\n",
              "4       0.093198      0.003648  ...          0.715453         0.000739\n",
              "3       0.092111      0.003626  ...          0.715451         0.000739\n",
              "\n",
              "[5 rows x 31 columns]"
            ]
          },
          "metadata": {
            "tags": []
          },
          "execution_count": 133
        }
      ]
    },
    {
      "cell_type": "code",
      "metadata": {
        "id": "vZ2ybgp2wIYd",
        "colab_type": "code",
        "colab": {
          "base_uri": "https://localhost:8080/",
          "height": 35
        },
        "outputId": "e48883ea-59ee-4626-ae8b-c2946fe50e36"
      },
      "source": [
        "results[['param_alpha','mean_test_score','mean_train_score']]\n",
        "best_alpha=clf.best_params_\n",
        "best_alpha"
      ],
      "execution_count": 134,
      "outputs": [
        {
          "output_type": "execute_result",
          "data": {
            "text/plain": [
              "{'alpha': 1e-05}"
            ]
          },
          "metadata": {
            "tags": []
          },
          "execution_count": 134
        }
      ]
    },
    {
      "cell_type": "code",
      "metadata": {
        "id": "LKgGmTeatszA",
        "colab_type": "code",
        "colab": {
          "base_uri": "https://localhost:8080/",
          "height": 301
        },
        "outputId": "1125dd6f-a645-4a1c-9ab7-fa95befbb283"
      },
      "source": [
        "from sklearn.metrics import roc_curve, auc\n",
        "import matplotlib.pyplot as plt\n",
        "\n",
        "neigh = MultinomialNB(alpha=best_alpha['alpha'],class_prior=[0.5,0.5])\n",
        "neigh.fit(X_tr, y_train)\n",
        "\n",
        "y_train_pred = batch_predict(neigh, X_tr)    \n",
        "y_test_pred = batch_predict(neigh, X_te)\n",
        "\n",
        "train_fpr, train_tpr, tr_thresholds = roc_curve(y_train, y_train_pred)\n",
        "test_fpr, test_tpr, te_thresholds = roc_curve(y_test, y_test_pred)\n",
        "\n",
        "plt.plot(train_fpr, train_tpr, label=\"train AUC =\"+str(auc(train_fpr, train_tpr)))\n",
        "plt.plot(test_fpr, test_tpr, label=\"test AUC =\"+str(auc(test_fpr, test_tpr)))\n",
        "\n",
        "plt.xlabel(\"FPR\")\n",
        "plt.ylabel(\"TPR\")\n",
        "plt.title(\"AUC\")\n",
        "plt.grid(color='black', linestyle='-', linewidth=0.5)\n",
        "plt.legend()\n",
        "plt.show()"
      ],
      "execution_count": 135,
      "outputs": [
        {
          "output_type": "display_data",
          "data": {
            "image/png": "[encoded data removed]",
            "text/plain": [
              "<Figure size 432x288 with 1 Axes>"
            ]
          },
          "metadata": {
            "tags": []
          }
        }
      ]
    },
    {
      "cell_type": "markdown",
      "metadata": {
        "id": "0QuE1bc4Kb4l",
        "colab_type": "text"
      },
      "source": [
        "#Find the best hyper paramter using k-fold cross validation(RandomizedSearchCV)"
      ]
    },
    {
      "cell_type": "code",
      "metadata": {
        "id": "IXBuxBDRsB_F",
        "colab_type": "code",
        "colab": {
          "base_uri": "https://localhost:8080/",
          "height": 788
        },
        "outputId": "5e5c3985-6be8-42b9-9416-57a1da8e0875"
      },
      "source": [
        "from sklearn.model_selection import GridSearchCV\n",
        "from scipy.stats import randint as sp_randint\n",
        "from sklearn.model_selection import RandomizedSearchCV\n",
        "from sklearn.naive_bayes import MultinomialNB\n",
        "\n",
        "neigh = MultinomialNB(class_prior=[0.5,0.5])\n",
        "parameters_rand = {'alpha':sp_randint(1,100)}\n",
        "clf_rand = RandomizedSearchCV(neigh, parameters_rand, cv=10, scoring='roc_auc',return_train_score=True)\n",
        "clf_rand.fit(X_tr, y_train)\n",
        "\n",
        "results_rand = pd.DataFrame.from_dict(clf_rand.cv_results_)\n",
        "print(results_rand.columns)\n",
        "\n",
        "results_rand = results_rand.sort_values(['param_alpha'])\n",
        "\n",
        "train_auc_rand= results_rand['mean_train_score']\n",
        "train_auc_std= results_rand['std_train_score']\n",
        "cv_auc_rand = results_rand['mean_test_score'] \n",
        "cv_auc_std= results_rand['std_test_score']\n",
        "a_rand =  results_rand['param_alpha']\n",
        "\n",
        "plt.plot(a_rand, train_auc_rand, label='Train AUC')\n",
        "\n",
        "\n",
        "plt.plot(a_rand, cv_auc_rand, label='CV AUC')\n",
        "\n",
        "plt.scatter(a_rand, train_auc_rand, label='Train AUC points')\n",
        "plt.scatter(a_rand, cv_auc_rand, label='CV AUC points')\n",
        "\n",
        "\n",
        "plt.legend()\n",
        "plt.xlabel(\"Alpha: hyperparameter\")\n",
        "plt.ylabel(\"AUC\")\n",
        "plt.title(\"Hyper parameter Vs AUC plot\")\n",
        "plt.grid(color='black', linestyle='-', linewidth=0.5)\n",
        "plt.show()\n",
        "results_rand.head()"
      ],
      "execution_count": 173,
      "outputs": [
        {
          "output_type": "stream",
          "text": [
            "Index(['mean_fit_time', 'std_fit_time', 'mean_score_time', 'std_score_time',\n",
            "       'param_alpha', 'params', 'split0_test_score', 'split1_test_score',\n",
            "       'split2_test_score', 'split3_test_score', 'split4_test_score',\n",
            "       'split5_test_score', 'split6_test_score', 'split7_test_score',\n",
            "       'split8_test_score', 'split9_test_score', 'mean_test_score',\n",
            "       'std_test_score', 'rank_test_score', 'split0_train_score',\n",
            "       'split1_train_score', 'split2_train_score', 'split3_train_score',\n",
            "       'split4_train_score', 'split5_train_score', 'split6_train_score',\n",
            "       'split7_train_score', 'split8_train_score', 'split9_train_score',\n",
            "       'mean_train_score', 'std_train_score'],\n",
            "      dtype='object')\n"
          ],
          "name": "stdout"
        },
        {
          "output_type": "display_data",
          "data": {
            "image/png": "[encoded data removed]",
            "text/plain": [
              "<Figure size 432x288 with 1 Axes>"
            ]
          },
          "metadata": {
            "tags": []
          }
        },
        {
          "output_type": "execute_result",
          "data": {
            "text/html": [
              "<div>\n",
              "<style scoped>\n",
              "    .dataframe tbody tr th:only-of-type {\n",
              "        vertical-align: middle;\n",
              "    }\n",
              "\n",
              "    .dataframe tbody tr th {\n",
              "        vertical-align: top;\n",
              "    }\n",
              "\n",
              "    .dataframe thead th {\n",
              "        text-align: right;\n",
              "    }\n",
              "</style>\n",
              "<table border=\"1\" class=\"dataframe\">\n",
              "  <thead>\n",
              "    <tr style=\"text-align: right;\">\n",
              "      <th></th>\n",
              "      <th>mean_fit_time</th>\n",
              "      <th>std_fit_time</th>\n",
              "      <th>mean_score_time</th>\n",
              "      <th>std_score_time</th>\n",
              "      <th>param_alpha</th>\n",
              "      <th>params</th>\n",
              "      <th>split0_test_score</th>\n",
              "      <th>split1_test_score</th>\n",
              "      <th>split2_test_score</th>\n",
              "      <th>split3_test_score</th>\n",
              "      <th>split4_test_score</th>\n",
              "      <th>split5_test_score</th>\n",
              "      <th>split6_test_score</th>\n",
              "      <th>split7_test_score</th>\n",
              "      <th>split8_test_score</th>\n",
              "      <th>split9_test_score</th>\n",
              "      <th>mean_test_score</th>\n",
              "      <th>std_test_score</th>\n",
              "      <th>rank_test_score</th>\n",
              "      <th>split0_train_score</th>\n",
              "      <th>split1_train_score</th>\n",
              "      <th>split2_train_score</th>\n",
              "      <th>split3_train_score</th>\n",
              "      <th>split4_train_score</th>\n",
              "      <th>split5_train_score</th>\n",
              "      <th>split6_train_score</th>\n",
              "      <th>split7_train_score</th>\n",
              "      <th>split8_train_score</th>\n",
              "      <th>split9_train_score</th>\n",
              "      <th>mean_train_score</th>\n",
              "      <th>std_train_score</th>\n",
              "    </tr>\n",
              "  </thead>\n",
              "  <tbody>\n",
              "    <tr>\n",
              "      <th>0</th>\n",
              "      <td>0.093374</td>\n",
              "      <td>0.002647</td>\n",
              "      <td>0.009497</td>\n",
              "      <td>0.000184</td>\n",
              "      <td>5</td>\n",
              "      <td>{'alpha': 5}</td>\n",
              "      <td>0.690597</td>\n",
              "      <td>0.691420</td>\n",
              "      <td>0.688092</td>\n",
              "      <td>0.672443</td>\n",
              "      <td>0.691498</td>\n",
              "      <td>0.700453</td>\n",
              "      <td>0.684815</td>\n",
              "      <td>0.689851</td>\n",
              "      <td>0.677002</td>\n",
              "      <td>0.699008</td>\n",
              "      <td>0.688518</td>\n",
              "      <td>0.008251</td>\n",
              "      <td>1</td>\n",
              "      <td>0.712366</td>\n",
              "      <td>0.713870</td>\n",
              "      <td>0.713282</td>\n",
              "      <td>0.714899</td>\n",
              "      <td>0.713675</td>\n",
              "      <td>0.712470</td>\n",
              "      <td>0.713043</td>\n",
              "      <td>0.713488</td>\n",
              "      <td>0.713837</td>\n",
              "      <td>0.712597</td>\n",
              "      <td>0.713353</td>\n",
              "      <td>0.000738</td>\n",
              "    </tr>\n",
              "    <tr>\n",
              "      <th>8</th>\n",
              "      <td>0.092715</td>\n",
              "      <td>0.001281</td>\n",
              "      <td>0.010068</td>\n",
              "      <td>0.001655</td>\n",
              "      <td>5</td>\n",
              "      <td>{'alpha': 5}</td>\n",
              "      <td>0.690597</td>\n",
              "      <td>0.691420</td>\n",
              "      <td>0.688092</td>\n",
              "      <td>0.672443</td>\n",
              "      <td>0.691498</td>\n",
              "      <td>0.700453</td>\n",
              "      <td>0.684815</td>\n",
              "      <td>0.689851</td>\n",
              "      <td>0.677002</td>\n",
              "      <td>0.699008</td>\n",
              "      <td>0.688518</td>\n",
              "      <td>0.008251</td>\n",
              "      <td>1</td>\n",
              "      <td>0.712366</td>\n",
              "      <td>0.713870</td>\n",
              "      <td>0.713282</td>\n",
              "      <td>0.714899</td>\n",
              "      <td>0.713675</td>\n",
              "      <td>0.712470</td>\n",
              "      <td>0.713043</td>\n",
              "      <td>0.713488</td>\n",
              "      <td>0.713837</td>\n",
              "      <td>0.712597</td>\n",
              "      <td>0.713353</td>\n",
              "      <td>0.000738</td>\n",
              "    </tr>\n",
              "    <tr>\n",
              "      <th>1</th>\n",
              "      <td>0.092010</td>\n",
              "      <td>0.000879</td>\n",
              "      <td>0.009450</td>\n",
              "      <td>0.000146</td>\n",
              "      <td>10</td>\n",
              "      <td>{'alpha': 10}</td>\n",
              "      <td>0.689023</td>\n",
              "      <td>0.690334</td>\n",
              "      <td>0.686028</td>\n",
              "      <td>0.670353</td>\n",
              "      <td>0.689766</td>\n",
              "      <td>0.698960</td>\n",
              "      <td>0.683042</td>\n",
              "      <td>0.688608</td>\n",
              "      <td>0.675113</td>\n",
              "      <td>0.697299</td>\n",
              "      <td>0.686853</td>\n",
              "      <td>0.008422</td>\n",
              "      <td>3</td>\n",
              "      <td>0.710202</td>\n",
              "      <td>0.711647</td>\n",
              "      <td>0.711212</td>\n",
              "      <td>0.712764</td>\n",
              "      <td>0.711487</td>\n",
              "      <td>0.710319</td>\n",
              "      <td>0.710950</td>\n",
              "      <td>0.711370</td>\n",
              "      <td>0.711728</td>\n",
              "      <td>0.710428</td>\n",
              "      <td>0.711211</td>\n",
              "      <td>0.000739</td>\n",
              "    </tr>\n",
              "    <tr>\n",
              "      <th>2</th>\n",
              "      <td>0.093156</td>\n",
              "      <td>0.001794</td>\n",
              "      <td>0.009473</td>\n",
              "      <td>0.000131</td>\n",
              "      <td>28</td>\n",
              "      <td>{'alpha': 28}</td>\n",
              "      <td>0.682477</td>\n",
              "      <td>0.686300</td>\n",
              "      <td>0.678586</td>\n",
              "      <td>0.663300</td>\n",
              "      <td>0.683065</td>\n",
              "      <td>0.693183</td>\n",
              "      <td>0.676151</td>\n",
              "      <td>0.683345</td>\n",
              "      <td>0.668489</td>\n",
              "      <td>0.690767</td>\n",
              "      <td>0.680566</td>\n",
              "      <td>0.008838</td>\n",
              "      <td>4</td>\n",
              "      <td>0.702306</td>\n",
              "      <td>0.703515</td>\n",
              "      <td>0.703532</td>\n",
              "      <td>0.704950</td>\n",
              "      <td>0.703501</td>\n",
              "      <td>0.702382</td>\n",
              "      <td>0.703235</td>\n",
              "      <td>0.703575</td>\n",
              "      <td>0.704002</td>\n",
              "      <td>0.702462</td>\n",
              "      <td>0.703346</td>\n",
              "      <td>0.000771</td>\n",
              "    </tr>\n",
              "    <tr>\n",
              "      <th>6</th>\n",
              "      <td>0.093115</td>\n",
              "      <td>0.001171</td>\n",
              "      <td>0.009652</td>\n",
              "      <td>0.000204</td>\n",
              "      <td>34</td>\n",
              "      <td>{'alpha': 34}</td>\n",
              "      <td>0.680172</td>\n",
              "      <td>0.684938</td>\n",
              "      <td>0.676094</td>\n",
              "      <td>0.661040</td>\n",
              "      <td>0.680689</td>\n",
              "      <td>0.691123</td>\n",
              "      <td>0.673860</td>\n",
              "      <td>0.681371</td>\n",
              "      <td>0.666369</td>\n",
              "      <td>0.688525</td>\n",
              "      <td>0.678418</td>\n",
              "      <td>0.008924</td>\n",
              "      <td>5</td>\n",
              "      <td>0.699684</td>\n",
              "      <td>0.700797</td>\n",
              "      <td>0.700947</td>\n",
              "      <td>0.702338</td>\n",
              "      <td>0.700844</td>\n",
              "      <td>0.699718</td>\n",
              "      <td>0.700653</td>\n",
              "      <td>0.700975</td>\n",
              "      <td>0.701423</td>\n",
              "      <td>0.699795</td>\n",
              "      <td>0.700717</td>\n",
              "      <td>0.000787</td>\n",
              "    </tr>\n",
              "  </tbody>\n",
              "</table>\n",
              "</div>"
            ],
            "text/plain": [
              "   mean_fit_time  std_fit_time  ...  mean_train_score  std_train_score\n",
              "0       0.093374      0.002647  ...          0.713353         0.000738\n",
              "8       0.092715      0.001281  ...          0.713353         0.000738\n",
              "1       0.092010      0.000879  ...          0.711211         0.000739\n",
              "2       0.093156      0.001794  ...          0.703346         0.000771\n",
              "6       0.093115      0.001171  ...          0.700717         0.000787\n",
              "\n",
              "[5 rows x 31 columns]"
            ]
          },
          "metadata": {
            "tags": []
          },
          "execution_count": 173
        }
      ]
    },
    {
      "cell_type": "code",
      "metadata": {
        "id": "SVXA2r1iTNei",
        "colab_type": "code",
        "colab": {
          "base_uri": "https://localhost:8080/",
          "height": 35
        },
        "outputId": "9612c765-2b2b-46a2-e1d2-417f6879c733"
      },
      "source": [
        "results_rand[['param_alpha','mean_test_score','mean_train_score']]\n",
        "best_alpha=clf_rand.best_params_\n",
        "best_alpha"
      ],
      "execution_count": 174,
      "outputs": [
        {
          "output_type": "execute_result",
          "data": {
            "text/plain": [
              "{'alpha': 5}"
            ]
          },
          "metadata": {
            "tags": []
          },
          "execution_count": 174
        }
      ]
    },
    {
      "cell_type": "code",
      "metadata": {
        "id": "sAM_NCbmPuHD",
        "colab_type": "code",
        "colab": {
          "base_uri": "https://localhost:8080/",
          "height": 301
        },
        "outputId": "8e88187e-5c2d-45e7-9a81-93b507652ba3"
      },
      "source": [
        "from sklearn.metrics import roc_curve, auc\n",
        "\n",
        "\n",
        "neigh = MultinomialNB(alpha=best_alpha['alpha'],class_prior=[0.5,0.5])\n",
        "neigh.fit(X_tr, y_train)\n",
        "\n",
        "y_train_pred_rand = neigh.predict_proba( X_tr)[:,1]    \n",
        "y_test_pred_rand = neigh.predict_proba( X_te)[:,1]\n",
        "\n",
        "train_fpr_rand, train_tpr_rand, tr_thresholds_rand = roc_curve(y_train, y_train_pred_rand)\n",
        "test_fpr_rand, test_tpr_rand, te_thresholds_rand = roc_curve(y_test, y_test_pred_rand)\n",
        "\n",
        "plt.plot(train_fpr_rand, train_tpr_rand, label=\"train AUC =\"+str(auc(train_fpr_rand, train_tpr_rand)))\n",
        "plt.plot(test_fpr_rand, test_tpr_rand, label=\"test AUC =\"+str(auc(test_fpr_rand, test_tpr_rand)))\n",
        "plt.legend()\n",
        "plt.xlabel(\"FPR\")\n",
        "plt.ylabel(\"TPR\")\n",
        "plt.title(\"AUC\")\n",
        "plt.grid(color='black', linestyle='-', linewidth=0.5)\n",
        "plt.show()"
      ],
      "execution_count": 175,
      "outputs": [
        {
          "output_type": "display_data",
          "data": {
            "image/png": "[encoded data removed]",
            "text/plain": [
              "<Figure size 432x288 with 1 Axes>"
            ]
          },
          "metadata": {
            "tags": []
          }
        }
      ]
    },
    {
      "cell_type": "markdown",
      "metadata": {
        "id": "Asg2Bp1QK89U",
        "colab_type": "text"
      },
      "source": [
        "#Confusion Matrix\n"
      ]
    },
    {
      "cell_type": "code",
      "metadata": {
        "id": "e7TvUbxX-0IT",
        "colab_type": "code",
        "colab": {}
      },
      "source": [
        "def find_best_threshold(threshould, fpr, tpr):\n",
        "    t = threshould[np.argmax(tpr*(1-fpr))]\n",
        "    # (tpr*(1-fpr)) will be maximum if your fpr is very low and tpr is very high\n",
        "    print(\"the maximum value of tpr*(1-fpr)\", max(tpr*(1-fpr)), \"for threshold\", np.round(t,3))\n",
        "    return t\n",
        "\n",
        "def predict_with_best_t(proba, threshould):\n",
        "    predictions = []\n",
        "    for i in proba:\n",
        "        if i>=threshould:\n",
        "            predictions.append(1)\n",
        "        else:\n",
        "            predictions.append(0)\n",
        "    return predictions"
      ],
      "execution_count": 142,
      "outputs": []
    },
    {
      "cell_type": "code",
      "metadata": {
        "colab_type": "code",
        "id": "ujJLRU5q2Lkg",
        "colab": {}
      },
      "source": [
        "\n",
        "neigh = MultinomialNB(alpha=1e-05,class_prior=[0.5,0.5])\n",
        "neigh.fit(X_tr, y_train)\n",
        "\n",
        "y_train_pred = batch_predict(neigh, X_tr)    \n",
        "y_test_pred = batch_predict(neigh, X_te)\n",
        "\n",
        "train_fpr, train_tpr, tr_thresholds = roc_curve(y_train, y_train_pred)\n",
        "test_fpr, test_tpr, te_thresholds = roc_curve(y_test, y_test_pred)\n"
      ],
      "execution_count": 143,
      "outputs": []
    },
    {
      "cell_type": "code",
      "metadata": {
        "id": "kxg5mD8S-oQn",
        "colab_type": "code",
        "colab": {
          "base_uri": "https://localhost:8080/",
          "height": 163
        },
        "outputId": "68baf835-108a-43a5-c542-58bd1b8db65a"
      },
      "source": [
        "print(\"=\"*100)\n",
        "from sklearn.metrics import confusion_matrix\n",
        "best_t = find_best_threshold(tr_thresholds, train_fpr, train_tpr)\n",
        "print(\"Train confusion matrix\")\n",
        "print(confusion_matrix(y_train, predict_with_best_t(y_train_pred, best_t)))\n",
        "print(\"Test confusion matrix\")\n",
        "print(confusion_matrix(y_test, predict_with_best_t(y_test_pred, best_t)))"
      ],
      "execution_count": 144,
      "outputs": [
        {
          "output_type": "stream",
          "text": [
            "====================================================================================================\n",
            "the maximum value of tpr*(1-fpr) 0.4388343526299907 for threshold 0.553\n",
            "Train confusion matrix\n",
            "[[ 7551  3532]\n",
            " [22106 40007]]\n",
            "Test confusion matrix\n",
            "[[ 3553  1906]\n",
            " [11021 19572]]\n"
          ],
          "name": "stdout"
        }
      ]
    },
    {
      "cell_type": "code",
      "metadata": {
        "id": "svmSshLwyBmR",
        "colab_type": "code",
        "colab": {
          "base_uri": "https://localhost:8080/",
          "height": 559
        },
        "outputId": "29f2ff87-9b5e-444e-9662-80c04e868fab"
      },
      "source": [
        "print('Confusion Matrix: Train')\n",
        "cm_tr=confusion_matrix(y_train, predict_with_best_t(y_train_pred, best_t))\n",
        "sns.heatmap(cm_tr, annot=True,fmt=\"d\",cmap='YlGnBu_r')\n",
        "plt.show()\n",
        "\n",
        "print('Confusion Matrix: Test')\n",
        "cm_tr=confusion_matrix(y_test, predict_with_best_t(y_test_pred, best_t))\n",
        "sns.heatmap(cm_tr, annot=True,fmt=\"d\",cmap='YlGnBu_r')\n",
        "plt.show()"
      ],
      "execution_count": 150,
      "outputs": [
        {
          "output_type": "stream",
          "text": [
            "Confusion Matrix: Train\n"
          ],
          "name": "stdout"
        },
        {
          "output_type": "display_data",
          "data": {
            "image/png": "[encoded data removed]",
            "text/plain": [
              "<Figure size 432x288 with 2 Axes>"
            ]
          },
          "metadata": {
            "tags": []
          }
        },
        {
          "output_type": "stream",
          "text": [
            "Confusion Matrix: Test\n"
          ],
          "name": "stdout"
        },
        {
          "output_type": "display_data",
          "data": {
            "image/png": "[encoded data removed]",
            "text/plain": [
              "<Figure size 432x288 with 2 Axes>"
            ]
          },
          "metadata": {
            "tags": []
          }
        }
      ]
    },
    {
      "cell_type": "markdown",
      "metadata": {
        "id": "WwDT8RdAzXh6",
        "colab_type": "text"
      },
      "source": [
        "#Set2:TF-IDF"
      ]
    },
    {
      "cell_type": "code",
      "metadata": {
        "id": "kmtUxAQLzWSO",
        "colab_type": "code",
        "colab": {
          "base_uri": "https://localhost:8080/",
          "height": 72
        },
        "outputId": "2e73b8b6-2012-4c0a-8dae-e374e84c977a"
      },
      "source": [
        "from sklearn.feature_extraction.text import TfidfVectorizer\n",
        "vectorizer_essay_tfidf = TfidfVectorizer(min_df=10, max_features=5000)\n",
        "vectorizer_essay_tfidf.fit(X_train['essay'].values) \n",
        "\n",
        "X_train_essay_tfidf = vectorizer_essay_tfidf.transform(X_train['essay'].values)\n",
        "X_test_essay_tfidf = vectorizer_essay_tfidf.transform(X_test['essay'].values)\n",
        "\n",
        "print(\"After vectorizations\")\n",
        "print(X_train_essay_tfidf.shape, y_train.shape)\n",
        "print(X_test_essay_tfidf.shape, y_test.shape)"
      ],
      "execution_count": 151,
      "outputs": [
        {
          "output_type": "stream",
          "text": [
            "After vectorizations\n",
            "(73196, 5000) (73196,)\n",
            "(36052, 5000) (36052,)\n"
          ],
          "name": "stdout"
        }
      ]
    },
    {
      "cell_type": "markdown",
      "metadata": {
        "id": "odCRIQJE0V-T",
        "colab_type": "text"
      },
      "source": [
        "#Concatinating all the features"
      ]
    },
    {
      "cell_type": "code",
      "metadata": {
        "id": "9p-ePuAH0Wgb",
        "colab_type": "code",
        "colab": {
          "base_uri": "https://localhost:8080/",
          "height": 72
        },
        "outputId": "2fb2f2ae-0422-41c3-9eec-a82006b871dc"
      },
      "source": [
        "from scipy.sparse import hstack\n",
        "X_tr_tfidf = hstack((X_train_essay_tfidf, X_train_state_ohe, X_train_teacher_ohe, X_train_grade_ohe, X_train_clean_categories_ohe, X_train_clean_subcategories_ohe ,X_train_teacher_number_of_previously_posted_projects_norm ,X_train_price_norm,)).tocsr()\n",
        "X_te_tfidf = hstack((X_test_essay_tfidf, X_test_state_ohe, X_test_teacher_ohe, X_test_grade_ohe,X_test_clean_categories_ohe,X_test_clean_subcategories_ohe,X_test_teacher_number_of_previously_posted_projects_norm, X_test_price_norm)).tocsr()\n",
        "\n",
        "print(\"Final Data matrix\")\n",
        "print(X_tr_tfidf.shape, y_train.shape)\n",
        "print(X_te_tfidf.shape, y_test.shape)"
      ],
      "execution_count": 152,
      "outputs": [
        {
          "output_type": "stream",
          "text": [
            "Final Data matrix\n",
            "(73196, 5101) (73196,)\n",
            "(36052, 5101) (36052,)\n"
          ],
          "name": "stdout"
        }
      ]
    },
    {
      "cell_type": "code",
      "metadata": {
        "colab_type": "code",
        "id": "-1fTQXD301dU",
        "colab": {}
      },
      "source": [
        "def batch_predict(clf, data):\n",
        "    y_data_pred = []\n",
        "    tr_loop = data.shape[0] - data.shape[0]%1000\n",
        "\n",
        "    for i in range(0, tr_loop, 1000):\n",
        "        y_data_pred.extend(clf.predict_proba(data[i:i+1000])[:,1])\n",
        "    if data.shape[0]%1000 !=0:\n",
        "        y_data_pred.extend(clf.predict_proba(data[tr_loop:])[:,1])\n",
        "    \n",
        "    return y_data_pred"
      ],
      "execution_count": 153,
      "outputs": []
    },
    {
      "cell_type": "markdown",
      "metadata": {
        "id": "kGDBoh3-dXZJ",
        "colab_type": "text"
      },
      "source": [
        "#Find the best hyper paramter using k-fold cross validation(GridSearchCV)"
      ]
    },
    {
      "cell_type": "code",
      "metadata": {
        "colab_type": "code",
        "id": "2G_k7X_h1J-c",
        "colab": {
          "base_uri": "https://localhost:8080/",
          "height": 806
        },
        "outputId": "a064e3cb-f67f-4a5d-b00b-d512611f15ba"
      },
      "source": [
        "from sklearn.model_selection import GridSearchCV\n",
        "from scipy.stats import randint as sp_randint\n",
        "from sklearn.model_selection import RandomizedSearchCV\n",
        "from sklearn.naive_bayes import MultinomialNB\n",
        "import math\n",
        "\n",
        "neigh = MultinomialNB(class_prior=[0.5,0.5])\n",
        "parameters = {'alpha':[0.00001,0.0005, 0.0001,0.005,0.001,0.05,0.01,0.1,0.5,1,5,10,50,100]}\n",
        "log_alphas =[]\n",
        "for i in parameters['alpha']:\n",
        "  a= math.log(i)\n",
        "  log_alphas.append(a)\n",
        "print(log_alphas)\n",
        "\n",
        "clf = GridSearchCV(neigh, parameters, cv=10, scoring='roc_auc',return_train_score=True)\n",
        "clf.fit(X_tr_tfidf, y_train)\n",
        "\n",
        "results_tfidf = pd.DataFrame.from_dict(clf.cv_results_)\n",
        "print(results_tfidf .columns)\n",
        "results_tfidf  = results_tfidf.sort_values(['param_alpha'])\n",
        "\n",
        "train_auc= results_tfidf['mean_train_score']\n",
        "train_auc_std= results_tfidf['std_train_score']\n",
        "cv_auc = results_tfidf['mean_test_score'] \n",
        "cv_auc_std= results_tfidf['std_test_score']\n",
        "a =  results['param_alpha']\n",
        "\n",
        "plt.plot(log_alphas, train_auc, label='Train AUC')\n",
        "\n",
        "\n",
        "plt.plot(log_alphas, cv_auc, label='CV AUC')\n",
        "\n",
        "plt.scatter(log_alphas, train_auc, label='Train AUC points')\n",
        "plt.scatter(log_alphas, cv_auc, label='CV AUC points')\n",
        "\n",
        "\n",
        "plt.legend()\n",
        "plt.xlabel(\"a: hyperparameter\")\n",
        "plt.ylabel(\"AUC\")\n",
        "plt.title(\"Hyper parameter Vs AUC plot\")\n",
        "plt.grid(color='black', linestyle='-', linewidth=0.5)\n",
        "plt.show()\n",
        "\n",
        "results_tfidf.head()"
      ],
      "execution_count": 155,
      "outputs": [
        {
          "output_type": "stream",
          "text": [
            "[-11.512925464970229, -7.600902459542082, -9.210340371976182, -5.298317366548036, -6.907755278982137, -2.995732273553991, -4.605170185988091, -2.3025850929940455, -0.6931471805599453, 0.0, 1.6094379124341003, 2.302585092994046, 3.912023005428146, 4.605170185988092]\n",
            "Index(['mean_fit_time', 'std_fit_time', 'mean_score_time', 'std_score_time',\n",
            "       'param_alpha', 'params', 'split0_test_score', 'split1_test_score',\n",
            "       'split2_test_score', 'split3_test_score', 'split4_test_score',\n",
            "       'split5_test_score', 'split6_test_score', 'split7_test_score',\n",
            "       'split8_test_score', 'split9_test_score', 'mean_test_score',\n",
            "       'std_test_score', 'rank_test_score', 'split0_train_score',\n",
            "       'split1_train_score', 'split2_train_score', 'split3_train_score',\n",
            "       'split4_train_score', 'split5_train_score', 'split6_train_score',\n",
            "       'split7_train_score', 'split8_train_score', 'split9_train_score',\n",
            "       'mean_train_score', 'std_train_score'],\n",
            "      dtype='object')\n"
          ],
          "name": "stdout"
        },
        {
          "output_type": "display_data",
          "data": {
            "image/png": "[encoded data removed]",
            "text/plain": [
              "<Figure size 432x288 with 1 Axes>"
            ]
          },
          "metadata": {
            "tags": []
          }
        },
        {
          "output_type": "execute_result",
          "data": {
            "text/html": [
              "<div>\n",
              "<style scoped>\n",
              "    .dataframe tbody tr th:only-of-type {\n",
              "        vertical-align: middle;\n",
              "    }\n",
              "\n",
              "    .dataframe tbody tr th {\n",
              "        vertical-align: top;\n",
              "    }\n",
              "\n",
              "    .dataframe thead th {\n",
              "        text-align: right;\n",
              "    }\n",
              "</style>\n",
              "<table border=\"1\" class=\"dataframe\">\n",
              "  <thead>\n",
              "    <tr style=\"text-align: right;\">\n",
              "      <th></th>\n",
              "      <th>mean_fit_time</th>\n",
              "      <th>std_fit_time</th>\n",
              "      <th>mean_score_time</th>\n",
              "      <th>std_score_time</th>\n",
              "      <th>param_alpha</th>\n",
              "      <th>params</th>\n",
              "      <th>split0_test_score</th>\n",
              "      <th>split1_test_score</th>\n",
              "      <th>split2_test_score</th>\n",
              "      <th>split3_test_score</th>\n",
              "      <th>split4_test_score</th>\n",
              "      <th>split5_test_score</th>\n",
              "      <th>split6_test_score</th>\n",
              "      <th>split7_test_score</th>\n",
              "      <th>split8_test_score</th>\n",
              "      <th>split9_test_score</th>\n",
              "      <th>mean_test_score</th>\n",
              "      <th>std_test_score</th>\n",
              "      <th>rank_test_score</th>\n",
              "      <th>split0_train_score</th>\n",
              "      <th>split1_train_score</th>\n",
              "      <th>split2_train_score</th>\n",
              "      <th>split3_train_score</th>\n",
              "      <th>split4_train_score</th>\n",
              "      <th>split5_train_score</th>\n",
              "      <th>split6_train_score</th>\n",
              "      <th>split7_train_score</th>\n",
              "      <th>split8_train_score</th>\n",
              "      <th>split9_train_score</th>\n",
              "      <th>mean_train_score</th>\n",
              "      <th>std_train_score</th>\n",
              "    </tr>\n",
              "  </thead>\n",
              "  <tbody>\n",
              "    <tr>\n",
              "      <th>0</th>\n",
              "      <td>0.078241</td>\n",
              "      <td>0.002742</td>\n",
              "      <td>0.008533</td>\n",
              "      <td>0.000165</td>\n",
              "      <td>1e-05</td>\n",
              "      <td>{'alpha': 1e-05}</td>\n",
              "      <td>0.673932</td>\n",
              "      <td>0.671187</td>\n",
              "      <td>0.671857</td>\n",
              "      <td>0.672657</td>\n",
              "      <td>0.681978</td>\n",
              "      <td>0.682873</td>\n",
              "      <td>0.668472</td>\n",
              "      <td>0.673189</td>\n",
              "      <td>0.682250</td>\n",
              "      <td>0.683494</td>\n",
              "      <td>0.676189</td>\n",
              "      <td>0.005461</td>\n",
              "      <td>1</td>\n",
              "      <td>0.710444</td>\n",
              "      <td>0.713100</td>\n",
              "      <td>0.713214</td>\n",
              "      <td>0.713110</td>\n",
              "      <td>0.714816</td>\n",
              "      <td>0.712583</td>\n",
              "      <td>0.711612</td>\n",
              "      <td>0.712747</td>\n",
              "      <td>0.714326</td>\n",
              "      <td>0.712426</td>\n",
              "      <td>0.712838</td>\n",
              "      <td>0.001178</td>\n",
              "    </tr>\n",
              "    <tr>\n",
              "      <th>2</th>\n",
              "      <td>0.076763</td>\n",
              "      <td>0.000913</td>\n",
              "      <td>0.008869</td>\n",
              "      <td>0.000822</td>\n",
              "      <td>0.0001</td>\n",
              "      <td>{'alpha': 0.0001}</td>\n",
              "      <td>0.673930</td>\n",
              "      <td>0.671181</td>\n",
              "      <td>0.671854</td>\n",
              "      <td>0.672653</td>\n",
              "      <td>0.681976</td>\n",
              "      <td>0.682871</td>\n",
              "      <td>0.668470</td>\n",
              "      <td>0.673182</td>\n",
              "      <td>0.682268</td>\n",
              "      <td>0.683492</td>\n",
              "      <td>0.676188</td>\n",
              "      <td>0.005464</td>\n",
              "      <td>2</td>\n",
              "      <td>0.710441</td>\n",
              "      <td>0.713092</td>\n",
              "      <td>0.713211</td>\n",
              "      <td>0.713107</td>\n",
              "      <td>0.714812</td>\n",
              "      <td>0.712579</td>\n",
              "      <td>0.711608</td>\n",
              "      <td>0.712744</td>\n",
              "      <td>0.714321</td>\n",
              "      <td>0.712422</td>\n",
              "      <td>0.712834</td>\n",
              "      <td>0.001178</td>\n",
              "    </tr>\n",
              "    <tr>\n",
              "      <th>1</th>\n",
              "      <td>0.077589</td>\n",
              "      <td>0.001780</td>\n",
              "      <td>0.008538</td>\n",
              "      <td>0.000117</td>\n",
              "      <td>0.0005</td>\n",
              "      <td>{'alpha': 0.0005}</td>\n",
              "      <td>0.673923</td>\n",
              "      <td>0.671164</td>\n",
              "      <td>0.671843</td>\n",
              "      <td>0.672646</td>\n",
              "      <td>0.681970</td>\n",
              "      <td>0.682862</td>\n",
              "      <td>0.668461</td>\n",
              "      <td>0.673172</td>\n",
              "      <td>0.682321</td>\n",
              "      <td>0.683484</td>\n",
              "      <td>0.676185</td>\n",
              "      <td>0.005472</td>\n",
              "      <td>3</td>\n",
              "      <td>0.710431</td>\n",
              "      <td>0.713076</td>\n",
              "      <td>0.713202</td>\n",
              "      <td>0.713097</td>\n",
              "      <td>0.714803</td>\n",
              "      <td>0.712570</td>\n",
              "      <td>0.711599</td>\n",
              "      <td>0.712735</td>\n",
              "      <td>0.714311</td>\n",
              "      <td>0.712412</td>\n",
              "      <td>0.712824</td>\n",
              "      <td>0.001178</td>\n",
              "    </tr>\n",
              "    <tr>\n",
              "      <th>4</th>\n",
              "      <td>0.079592</td>\n",
              "      <td>0.002807</td>\n",
              "      <td>0.008702</td>\n",
              "      <td>0.000241</td>\n",
              "      <td>0.001</td>\n",
              "      <td>{'alpha': 0.001}</td>\n",
              "      <td>0.673917</td>\n",
              "      <td>0.671152</td>\n",
              "      <td>0.671838</td>\n",
              "      <td>0.672638</td>\n",
              "      <td>0.681967</td>\n",
              "      <td>0.682852</td>\n",
              "      <td>0.668456</td>\n",
              "      <td>0.673161</td>\n",
              "      <td>0.682350</td>\n",
              "      <td>0.683476</td>\n",
              "      <td>0.676181</td>\n",
              "      <td>0.005476</td>\n",
              "      <td>4</td>\n",
              "      <td>0.710421</td>\n",
              "      <td>0.713062</td>\n",
              "      <td>0.713192</td>\n",
              "      <td>0.713087</td>\n",
              "      <td>0.714792</td>\n",
              "      <td>0.712559</td>\n",
              "      <td>0.711589</td>\n",
              "      <td>0.712725</td>\n",
              "      <td>0.714300</td>\n",
              "      <td>0.712402</td>\n",
              "      <td>0.712813</td>\n",
              "      <td>0.001178</td>\n",
              "    </tr>\n",
              "    <tr>\n",
              "      <th>3</th>\n",
              "      <td>0.076665</td>\n",
              "      <td>0.000861</td>\n",
              "      <td>0.008554</td>\n",
              "      <td>0.000231</td>\n",
              "      <td>0.005</td>\n",
              "      <td>{'alpha': 0.005}</td>\n",
              "      <td>0.673855</td>\n",
              "      <td>0.671095</td>\n",
              "      <td>0.671792</td>\n",
              "      <td>0.672585</td>\n",
              "      <td>0.681910</td>\n",
              "      <td>0.682776</td>\n",
              "      <td>0.668400</td>\n",
              "      <td>0.673114</td>\n",
              "      <td>0.682422</td>\n",
              "      <td>0.683432</td>\n",
              "      <td>0.676138</td>\n",
              "      <td>0.005489</td>\n",
              "      <td>5</td>\n",
              "      <td>0.710341</td>\n",
              "      <td>0.712969</td>\n",
              "      <td>0.713112</td>\n",
              "      <td>0.713007</td>\n",
              "      <td>0.714710</td>\n",
              "      <td>0.712482</td>\n",
              "      <td>0.711510</td>\n",
              "      <td>0.712646</td>\n",
              "      <td>0.714219</td>\n",
              "      <td>0.712323</td>\n",
              "      <td>0.712732</td>\n",
              "      <td>0.001177</td>\n",
              "    </tr>\n",
              "  </tbody>\n",
              "</table>\n",
              "</div>"
            ],
            "text/plain": [
              "   mean_fit_time  std_fit_time  ...  mean_train_score  std_train_score\n",
              "0       0.078241      0.002742  ...          0.712838         0.001178\n",
              "2       0.076763      0.000913  ...          0.712834         0.001178\n",
              "1       0.077589      0.001780  ...          0.712824         0.001178\n",
              "4       0.079592      0.002807  ...          0.712813         0.001178\n",
              "3       0.076665      0.000861  ...          0.712732         0.001177\n",
              "\n",
              "[5 rows x 31 columns]"
            ]
          },
          "metadata": {
            "tags": []
          },
          "execution_count": 155
        }
      ]
    },
    {
      "cell_type": "code",
      "metadata": {
        "id": "mctZvzzZ1b4Z",
        "colab_type": "code",
        "colab": {}
      },
      "source": [
        ""
      ],
      "execution_count": null,
      "outputs": []
    },
    {
      "cell_type": "code",
      "metadata": {
        "colab_type": "code",
        "id": "EBFVdM5v1cXP",
        "colab": {
          "base_uri": "https://localhost:8080/",
          "height": 35
        },
        "outputId": "4218f53a-a4e2-46f6-af0a-d4fb1c9615e0"
      },
      "source": [
        "best_alpha_tfidf=clf.best_params_\n",
        "print(best_alpha_tfidf)"
      ],
      "execution_count": 156,
      "outputs": [
        {
          "output_type": "stream",
          "text": [
            "{'alpha': 1e-05}\n"
          ],
          "name": "stdout"
        }
      ]
    },
    {
      "cell_type": "code",
      "metadata": {
        "colab_type": "code",
        "id": "9E0hzb6f1cXY",
        "colab": {
          "base_uri": "https://localhost:8080/",
          "height": 301
        },
        "outputId": "f76422d1-3fac-4fc9-e3c2-edd45a16e02e"
      },
      "source": [
        "from sklearn.metrics import roc_curve, auc\n",
        "\n",
        "\n",
        "neigh = MultinomialNB(alpha=best_alpha_tfidf['alpha'],class_prior=[0.5,0.5])\n",
        "neigh.fit(X_tr_tfidf, y_train)\n",
        "\n",
        "y_train_pred_tfidf = batch_predict(neigh, X_tr_tfidf)    \n",
        "y_test_pred_tfidf = batch_predict(neigh, X_te_tfidf)\n",
        "\n",
        "train_fpr_tfidf, train_tpr_tfidf, tr_thresholds_tfidf = roc_curve(y_train, y_train_pred_tfidf)\n",
        "test_fpr_tfidf, test_tpr_tfidf, te_thresholds_tfidf = roc_curve(y_test, y_test_pred_tfidf)\n",
        "\n",
        "plt.plot(train_fpr_tfidf, train_tpr_tfidf, label=\"train AUC =\"+str(auc(train_fpr_tfidf, train_tpr_tfidf)))\n",
        "plt.plot(test_fpr_tfidf, test_tpr_tfidf, label=\"test AUC =\"+str(auc(test_fpr_tfidf, test_tpr_tfidf)))\n",
        "plt.legend()\n",
        "plt.xlabel(\"FPR\")\n",
        "plt.ylabel(\"TPR\")\n",
        "plt.title(\"AUC\")\n",
        "plt.grid(color='black', linestyle='-', linewidth=0.5)\n",
        "plt.show()"
      ],
      "execution_count": 157,
      "outputs": [
        {
          "output_type": "display_data",
          "data": {
            "image/png": "[encoded data removed]",
            "text/plain": [
              "<Figure size 432x288 with 1 Axes>"
            ]
          },
          "metadata": {
            "tags": []
          }
        }
      ]
    },
    {
      "cell_type": "markdown",
      "metadata": {
        "id": "SUj1eXGldT4t",
        "colab_type": "text"
      },
      "source": [
        "#Find the best hyper paramter using k-fold cross validation(RandomizedSearchCV)"
      ]
    },
    {
      "cell_type": "code",
      "metadata": {
        "colab_type": "code",
        "id": "07xvLfBx1cXg",
        "colab": {
          "base_uri": "https://localhost:8080/",
          "height": 788
        },
        "outputId": "95432094-053c-404a-e4cc-6e9f4e593f7f"
      },
      "source": [
        "from sklearn.model_selection import GridSearchCV\n",
        "from scipy.stats import randint as sp_randint\n",
        "from sklearn.model_selection import RandomizedSearchCV\n",
        "from sklearn.naive_bayes import MultinomialNB\n",
        "\n",
        "neigh = MultinomialNB(class_prior=[0.5,0.5])\n",
        "parameters_rand = {'alpha':sp_randint(1,100)}\n",
        "clf_rand = RandomizedSearchCV(neigh, parameters_rand, cv=10, scoring='roc_auc',return_train_score=True)\n",
        "clf_rand.fit(X_tr_tfidf, y_train)\n",
        "\n",
        "results_rand_tfidf = pd.DataFrame.from_dict(clf_rand.cv_results_)\n",
        "print(results_rand_tfidf.columns)\n",
        "\n",
        "results_rand_tfidf = results_rand_tfidf.sort_values(['param_alpha'])\n",
        "\n",
        "train_auc_rand= results_rand_tfidf['mean_train_score']\n",
        "train_auc_std= results_rand_tfidf['std_train_score']\n",
        "cv_auc_rand = results_rand_tfidf['mean_test_score'] \n",
        "cv_auc_std= results_rand_tfidf['std_test_score']\n",
        "a_rand =  results_rand_tfidf['param_alpha']\n",
        "\n",
        "plt.plot(a_rand, train_auc_rand, label='Train AUC')\n",
        "\n",
        "\n",
        "plt.plot(a_rand, cv_auc_rand, label='CV AUC')\n",
        "\n",
        "plt.scatter(a_rand, train_auc_rand, label='Train AUC points')\n",
        "plt.scatter(a_rand, cv_auc_rand, label='CV AUC points')\n",
        "\n",
        "\n",
        "plt.legend()\n",
        "plt.xlabel(\"alpha: hyperparameter\")\n",
        "plt.ylabel(\"AUC\")\n",
        "plt.title(\"Hyper parameter Vs AUC plot\")\n",
        "plt.grid(color='black', linestyle='-', linewidth=0.5)\n",
        "plt.show()\n",
        "\n",
        "results_rand_tfidf.head()"
      ],
      "execution_count": 176,
      "outputs": [
        {
          "output_type": "stream",
          "text": [
            "Index(['mean_fit_time', 'std_fit_time', 'mean_score_time', 'std_score_time',\n",
            "       'param_alpha', 'params', 'split0_test_score', 'split1_test_score',\n",
            "       'split2_test_score', 'split3_test_score', 'split4_test_score',\n",
            "       'split5_test_score', 'split6_test_score', 'split7_test_score',\n",
            "       'split8_test_score', 'split9_test_score', 'mean_test_score',\n",
            "       'std_test_score', 'rank_test_score', 'split0_train_score',\n",
            "       'split1_train_score', 'split2_train_score', 'split3_train_score',\n",
            "       'split4_train_score', 'split5_train_score', 'split6_train_score',\n",
            "       'split7_train_score', 'split8_train_score', 'split9_train_score',\n",
            "       'mean_train_score', 'std_train_score'],\n",
            "      dtype='object')\n"
          ],
          "name": "stdout"
        },
        {
          "output_type": "display_data",
          "data": {
            "image/png": "[encoded data removed]",
            "text/plain": [
              "<Figure size 432x288 with 1 Axes>"
            ]
          },
          "metadata": {
            "tags": []
          }
        },
        {
          "output_type": "execute_result",
          "data": {
            "text/html": [
              "<div>\n",
              "<style scoped>\n",
              "    .dataframe tbody tr th:only-of-type {\n",
              "        vertical-align: middle;\n",
              "    }\n",
              "\n",
              "    .dataframe tbody tr th {\n",
              "        vertical-align: top;\n",
              "    }\n",
              "\n",
              "    .dataframe thead th {\n",
              "        text-align: right;\n",
              "    }\n",
              "</style>\n",
              "<table border=\"1\" class=\"dataframe\">\n",
              "  <thead>\n",
              "    <tr style=\"text-align: right;\">\n",
              "      <th></th>\n",
              "      <th>mean_fit_time</th>\n",
              "      <th>std_fit_time</th>\n",
              "      <th>mean_score_time</th>\n",
              "      <th>std_score_time</th>\n",
              "      <th>param_alpha</th>\n",
              "      <th>params</th>\n",
              "      <th>split0_test_score</th>\n",
              "      <th>split1_test_score</th>\n",
              "      <th>split2_test_score</th>\n",
              "      <th>split3_test_score</th>\n",
              "      <th>split4_test_score</th>\n",
              "      <th>split5_test_score</th>\n",
              "      <th>split6_test_score</th>\n",
              "      <th>split7_test_score</th>\n",
              "      <th>split8_test_score</th>\n",
              "      <th>split9_test_score</th>\n",
              "      <th>mean_test_score</th>\n",
              "      <th>std_test_score</th>\n",
              "      <th>rank_test_score</th>\n",
              "      <th>split0_train_score</th>\n",
              "      <th>split1_train_score</th>\n",
              "      <th>split2_train_score</th>\n",
              "      <th>split3_train_score</th>\n",
              "      <th>split4_train_score</th>\n",
              "      <th>split5_train_score</th>\n",
              "      <th>split6_train_score</th>\n",
              "      <th>split7_train_score</th>\n",
              "      <th>split8_train_score</th>\n",
              "      <th>split9_train_score</th>\n",
              "      <th>mean_train_score</th>\n",
              "      <th>std_train_score</th>\n",
              "    </tr>\n",
              "  </thead>\n",
              "  <tbody>\n",
              "    <tr>\n",
              "      <th>5</th>\n",
              "      <td>0.076166</td>\n",
              "      <td>0.000610</td>\n",
              "      <td>0.008527</td>\n",
              "      <td>0.000105</td>\n",
              "      <td>12</td>\n",
              "      <td>{'alpha': 12}</td>\n",
              "      <td>0.571410</td>\n",
              "      <td>0.587987</td>\n",
              "      <td>0.574628</td>\n",
              "      <td>0.575304</td>\n",
              "      <td>0.581421</td>\n",
              "      <td>0.576690</td>\n",
              "      <td>0.566913</td>\n",
              "      <td>0.580128</td>\n",
              "      <td>0.587269</td>\n",
              "      <td>0.580199</td>\n",
              "      <td>0.578195</td>\n",
              "      <td>0.006269</td>\n",
              "      <td>1</td>\n",
              "      <td>0.591654</td>\n",
              "      <td>0.591095</td>\n",
              "      <td>0.592135</td>\n",
              "      <td>0.592123</td>\n",
              "      <td>0.591316</td>\n",
              "      <td>0.591790</td>\n",
              "      <td>0.593284</td>\n",
              "      <td>0.592142</td>\n",
              "      <td>0.591240</td>\n",
              "      <td>0.591221</td>\n",
              "      <td>0.591800</td>\n",
              "      <td>0.000628</td>\n",
              "    </tr>\n",
              "    <tr>\n",
              "      <th>9</th>\n",
              "      <td>0.075904</td>\n",
              "      <td>0.000881</td>\n",
              "      <td>0.008411</td>\n",
              "      <td>0.000099</td>\n",
              "      <td>16</td>\n",
              "      <td>{'alpha': 16}</td>\n",
              "      <td>0.560015</td>\n",
              "      <td>0.577735</td>\n",
              "      <td>0.563849</td>\n",
              "      <td>0.564728</td>\n",
              "      <td>0.570192</td>\n",
              "      <td>0.565905</td>\n",
              "      <td>0.555970</td>\n",
              "      <td>0.570431</td>\n",
              "      <td>0.576177</td>\n",
              "      <td>0.569176</td>\n",
              "      <td>0.567418</td>\n",
              "      <td>0.006412</td>\n",
              "      <td>2</td>\n",
              "      <td>0.579071</td>\n",
              "      <td>0.578126</td>\n",
              "      <td>0.579270</td>\n",
              "      <td>0.579288</td>\n",
              "      <td>0.578412</td>\n",
              "      <td>0.578882</td>\n",
              "      <td>0.580529</td>\n",
              "      <td>0.579132</td>\n",
              "      <td>0.578229</td>\n",
              "      <td>0.578379</td>\n",
              "      <td>0.578932</td>\n",
              "      <td>0.000676</td>\n",
              "    </tr>\n",
              "    <tr>\n",
              "      <th>1</th>\n",
              "      <td>0.075366</td>\n",
              "      <td>0.000598</td>\n",
              "      <td>0.008424</td>\n",
              "      <td>0.000064</td>\n",
              "      <td>25</td>\n",
              "      <td>{'alpha': 25}</td>\n",
              "      <td>0.544808</td>\n",
              "      <td>0.564076</td>\n",
              "      <td>0.549925</td>\n",
              "      <td>0.550849</td>\n",
              "      <td>0.555451</td>\n",
              "      <td>0.552350</td>\n",
              "      <td>0.541738</td>\n",
              "      <td>0.558073</td>\n",
              "      <td>0.561190</td>\n",
              "      <td>0.554831</td>\n",
              "      <td>0.553329</td>\n",
              "      <td>0.006574</td>\n",
              "      <td>3</td>\n",
              "      <td>0.562524</td>\n",
              "      <td>0.561141</td>\n",
              "      <td>0.562371</td>\n",
              "      <td>0.562391</td>\n",
              "      <td>0.561497</td>\n",
              "      <td>0.561898</td>\n",
              "      <td>0.563698</td>\n",
              "      <td>0.562003</td>\n",
              "      <td>0.561194</td>\n",
              "      <td>0.561570</td>\n",
              "      <td>0.562029</td>\n",
              "      <td>0.000726</td>\n",
              "    </tr>\n",
              "    <tr>\n",
              "      <th>3</th>\n",
              "      <td>0.075164</td>\n",
              "      <td>0.000393</td>\n",
              "      <td>0.008368</td>\n",
              "      <td>0.000076</td>\n",
              "      <td>32</td>\n",
              "      <td>{'alpha': 32}</td>\n",
              "      <td>0.537708</td>\n",
              "      <td>0.557544</td>\n",
              "      <td>0.543626</td>\n",
              "      <td>0.544495</td>\n",
              "      <td>0.548672</td>\n",
              "      <td>0.546516</td>\n",
              "      <td>0.535328</td>\n",
              "      <td>0.552832</td>\n",
              "      <td>0.554249</td>\n",
              "      <td>0.548216</td>\n",
              "      <td>0.546918</td>\n",
              "      <td>0.006651</td>\n",
              "      <td>4</td>\n",
              "      <td>0.554988</td>\n",
              "      <td>0.553454</td>\n",
              "      <td>0.554681</td>\n",
              "      <td>0.554699</td>\n",
              "      <td>0.553814</td>\n",
              "      <td>0.554170</td>\n",
              "      <td>0.556021</td>\n",
              "      <td>0.554214</td>\n",
              "      <td>0.553496</td>\n",
              "      <td>0.553965</td>\n",
              "      <td>0.554350</td>\n",
              "      <td>0.000738</td>\n",
              "    </tr>\n",
              "    <tr>\n",
              "      <th>6</th>\n",
              "      <td>0.105839</td>\n",
              "      <td>0.010859</td>\n",
              "      <td>0.012861</td>\n",
              "      <td>0.001572</td>\n",
              "      <td>33</td>\n",
              "      <td>{'alpha': 33}</td>\n",
              "      <td>0.536893</td>\n",
              "      <td>0.556777</td>\n",
              "      <td>0.542903</td>\n",
              "      <td>0.543771</td>\n",
              "      <td>0.547891</td>\n",
              "      <td>0.545881</td>\n",
              "      <td>0.534578</td>\n",
              "      <td>0.552250</td>\n",
              "      <td>0.553415</td>\n",
              "      <td>0.547448</td>\n",
              "      <td>0.546181</td>\n",
              "      <td>0.006660</td>\n",
              "      <td>5</td>\n",
              "      <td>0.554128</td>\n",
              "      <td>0.552583</td>\n",
              "      <td>0.553803</td>\n",
              "      <td>0.553826</td>\n",
              "      <td>0.552937</td>\n",
              "      <td>0.553287</td>\n",
              "      <td>0.555140</td>\n",
              "      <td>0.553321</td>\n",
              "      <td>0.552614</td>\n",
              "      <td>0.553097</td>\n",
              "      <td>0.553474</td>\n",
              "      <td>0.000739</td>\n",
              "    </tr>\n",
              "  </tbody>\n",
              "</table>\n",
              "</div>"
            ],
            "text/plain": [
              "   mean_fit_time  std_fit_time  ...  mean_train_score  std_train_score\n",
              "5       0.076166      0.000610  ...          0.591800         0.000628\n",
              "9       0.075904      0.000881  ...          0.578932         0.000676\n",
              "1       0.075366      0.000598  ...          0.562029         0.000726\n",
              "3       0.075164      0.000393  ...          0.554350         0.000738\n",
              "6       0.105839      0.010859  ...          0.553474         0.000739\n",
              "\n",
              "[5 rows x 31 columns]"
            ]
          },
          "metadata": {
            "tags": []
          },
          "execution_count": 176
        }
      ]
    },
    {
      "cell_type": "code",
      "metadata": {
        "colab_type": "code",
        "id": "0G48dAhH1cXn",
        "colab": {
          "base_uri": "https://localhost:8080/",
          "height": 35
        },
        "outputId": "9b42f923-ff7b-49a9-d6fa-0b66ffc71a2c"
      },
      "source": [
        "results_rand[['param_alpha','mean_test_score','mean_train_score']]\n",
        "best_alpha_tfidf_rand=clf_rand.best_params_\n",
        "best_alpha_tfidf_rand"
      ],
      "execution_count": 177,
      "outputs": [
        {
          "output_type": "execute_result",
          "data": {
            "text/plain": [
              "{'alpha': 12}"
            ]
          },
          "metadata": {
            "tags": []
          },
          "execution_count": 177
        }
      ]
    },
    {
      "cell_type": "code",
      "metadata": {
        "colab_type": "code",
        "id": "sS-WvDcv1cXv",
        "colab": {
          "base_uri": "https://localhost:8080/",
          "height": 301
        },
        "outputId": "29279e47-a8ea-4a7c-cb9f-f3d12974add3"
      },
      "source": [
        "from sklearn.metrics import roc_curve, auc\n",
        "\n",
        "\n",
        "neigh = MultinomialNB(alpha=best_alpha_tfidf_rand['alpha'],class_prior=[0.5,0.5])\n",
        "neigh.fit(X_tr_tfidf, y_train)\n",
        "\n",
        "y_train_pred_rand_tfidf = neigh.predict_proba( X_tr_tfidf)[:,1]    \n",
        "y_test_pred_rand_tfidf = neigh.predict_proba( X_te_tfidf)[:,1]\n",
        "\n",
        "train_fpr_rand_tfidf, train_tpr_rand_tfidf, tr_thresholds_rand_tfidf = roc_curve(y_train, y_train_pred_rand_tfidf)\n",
        "test_fpr_rand_tfidf, test_tpr_rand_tfidf, te_thresholds_rand_tfidf = roc_curve(y_test, y_test_pred_rand_tfidf)\n",
        "\n",
        "plt.plot(train_fpr_rand_tfidf, train_tpr_rand_tfidf, label=\"train AUC =\"+str(auc(train_fpr_rand_tfidf, train_tpr_rand_tfidf)))\n",
        "plt.plot(test_fpr_rand_tfidf, test_tpr_rand_tfidf, label=\"test AUC =\"+str(auc(test_fpr_rand_tfidf, test_tpr_rand_tfidf)))\n",
        "plt.legend()\n",
        "plt.xlabel(\"FPR\")\n",
        "plt.ylabel(\"TPR\")\n",
        "plt.title(\"AUC\")\n",
        "plt.grid(color='black', linestyle='-', linewidth=0.5)\n",
        "plt.show()"
      ],
      "execution_count": 178,
      "outputs": [
        {
          "output_type": "display_data",
          "data": {
            "image/png": "[encoded data removed]",
            "text/plain": [
              "<Figure size 432x288 with 1 Axes>"
            ]
          },
          "metadata": {
            "tags": []
          }
        }
      ]
    },
    {
      "cell_type": "markdown",
      "metadata": {
        "id": "UwmNJDc9d0Zd",
        "colab_type": "text"
      },
      "source": [
        "#Confusion Matrix"
      ]
    },
    {
      "cell_type": "code",
      "metadata": {
        "colab_type": "code",
        "id": "nDJubWJg1cX2",
        "colab": {}
      },
      "source": [
        "def find_best_threshold(threshould, fpr, tpr):\n",
        "    t = threshould[np.argmax(tpr*(1-fpr))]\n",
        "    # (tpr*(1-fpr)) will be maximum if your fpr is very low and tpr is very high\n",
        "    print(\"the maximum value of tpr*(1-fpr)\", max(tpr*(1-fpr)), \"for threshold\", np.round(t,3))\n",
        "    return t\n",
        "\n",
        "def predict_with_best_t(proba, threshould):\n",
        "    predictions = []\n",
        "    for i in proba:\n",
        "        if i>=threshould:\n",
        "            predictions.append(1)\n",
        "        else:\n",
        "            predictions.append(0)\n",
        "    return predictions"
      ],
      "execution_count": 179,
      "outputs": []
    },
    {
      "cell_type": "code",
      "metadata": {
        "id": "GDamxU_uFurn",
        "colab_type": "code",
        "colab": {}
      },
      "source": [
        "neigh = MultinomialNB(alpha=best_alpha_tfidf['alpha'],class_prior=[0.5,0.5])\n",
        "neigh.fit(X_tr_tfidf, y_train)\n",
        "\n",
        "y_train_pred_tfidf = batch_predict(neigh, X_tr_tfidf)    \n",
        "y_test_pred_tfidf = batch_predict(neigh, X_te_tfidf)\n",
        "\n",
        "train_fpr_tfidf, train_tpr_tfidf, tr_thresholds_tfidf = roc_curve(y_train, y_train_pred_tfidf)\n",
        "test_fpr_tfidf, test_tpr_tfidf, te_thresholds_tfidf = roc_curve(y_test, y_test_pred_tfidf)\n"
      ],
      "execution_count": 180,
      "outputs": []
    },
    {
      "cell_type": "code",
      "metadata": {
        "colab_type": "code",
        "id": "_fgB5xg_1cYA",
        "colab": {
          "base_uri": "https://localhost:8080/",
          "height": 163
        },
        "outputId": "cce1a63a-8c19-44e7-c9a3-bd4db7925190"
      },
      "source": [
        "print(\"=\"*100)\n",
        "from sklearn.metrics import confusion_matrix\n",
        "best_t = find_best_threshold(tr_thresholds_tfidf, train_fpr_tfidf, train_tpr_tfidf)\n",
        "print(\"Train confusion matrix\")\n",
        "print(confusion_matrix(y_train, predict_with_best_t(y_train_pred_tfidf, best_t)))\n",
        "print(\"Test confusion matrix\")\n",
        "print(confusion_matrix(y_test, predict_with_best_t(y_test_pred_tfidf, best_t)))"
      ],
      "execution_count": 181,
      "outputs": [
        {
          "output_type": "stream",
          "text": [
            "====================================================================================================\n",
            "the maximum value of tpr*(1-fpr) 0.43108460602577914 for threshold 0.509\n",
            "Train confusion matrix\n",
            "[[ 7522  3561]\n",
            " [22661 39452]]\n",
            "Test confusion matrix\n",
            "[[ 3475  1984]\n",
            " [11376 19217]]\n"
          ],
          "name": "stdout"
        }
      ]
    },
    {
      "cell_type": "code",
      "metadata": {
        "id": "_uuftCEdGTG-",
        "colab_type": "code",
        "colab": {
          "base_uri": "https://localhost:8080/",
          "height": 555
        },
        "outputId": "33620ba6-04b7-4b97-e234-05ebc3b567f1"
      },
      "source": [
        "print('Confusion Matrix: Train')\n",
        "cm_tr=confusion_matrix(y_train, predict_with_best_t(y_train_pred_tfidf, best_t))\n",
        "sns.set(font_scale=1)\n",
        "sns.heatmap(cm_tr, annot=True,fmt=\"d\",cmap='YlGn_r')\n",
        "plt.show()\n",
        "\n",
        "print('Confusion Matrix: Test')\n",
        "cm_tr=confusion_matrix(y_test, predict_with_best_t(y_test_pred_tfidf, best_t))\n",
        "sns.set(font_scale=1)\n",
        "sns.heatmap(cm_tr, annot=True,fmt=\"d\",cmap='YlGn_r')\n",
        "plt.show()"
      ],
      "execution_count": 184,
      "outputs": [
        {
          "output_type": "stream",
          "text": [
            "Confusion Matrix: Train\n"
          ],
          "name": "stdout"
        },
        {
          "output_type": "display_data",
          "data": {
            "image/png": "[encoded data removed]",
            "text/plain": [
              "<Figure size 432x288 with 2 Axes>"
            ]
          },
          "metadata": {
            "tags": []
          }
        },
        {
          "output_type": "stream",
          "text": [
            "Confusion Matrix: Test\n"
          ],
          "name": "stdout"
        },
        {
          "output_type": "display_data",
          "data": {
            "image/png": "[encoded data removed]",
            "text/plain": [
              "<Figure size 432x288 with 2 Axes>"
            ]
          },
          "metadata": {
            "tags": []
          }
        }
      ]
    },
    {
      "cell_type": "markdown",
      "metadata": {
        "id": "xjHc7ra_pMq2",
        "colab_type": "text"
      },
      "source": [
        "#Find the top 20 features from Set 1: BOW"
      ]
    },
    {
      "cell_type": "code",
      "metadata": {
        "colab_type": "code",
        "id": "NOkTKrljpId5",
        "colab": {
          "base_uri": "https://localhost:8080/",
          "height": 72
        },
        "outputId": "beaf233c-d90b-430b-96e8-4672eb57127b"
      },
      "source": [
        "from scipy.sparse import hstack\n",
        "X_tr = hstack((X_train_essay_bow, X_train_state_ohe, X_train_teacher_ohe, X_train_grade_ohe, X_train_clean_categories_ohe, X_train_clean_subcategories_ohe ,X_train_teacher_number_of_previously_posted_projects_norm ,X_train_price_norm,)).tocsr()\n",
        "X_te = hstack((X_test_essay_bow, X_test_state_ohe, X_test_teacher_ohe, X_test_grade_ohe,X_test_clean_categories_ohe,X_test_clean_subcategories_ohe,X_test_teacher_number_of_previously_posted_projects_norm, X_test_price_norm)).tocsr()\n",
        "\n",
        "print(\"Final Data matrix\")\n",
        "print(X_tr.shape, y_train.shape)\n",
        "print(X_te.shape, y_test.shape)"
      ],
      "execution_count": 185,
      "outputs": [
        {
          "output_type": "stream",
          "text": [
            "Final Data matrix\n",
            "(73196, 5101) (73196,)\n",
            "(36052, 5101) (36052,)\n"
          ],
          "name": "stdout"
        }
      ]
    },
    {
      "cell_type": "code",
      "metadata": {
        "id": "oEPF_UKVpTvW",
        "colab_type": "code",
        "colab": {}
      },
      "source": [
        "neigh_bow = MultinomialNB(alpha = 1e-05,class_prior=[0.5,0.5])\n",
        "neigh_bow.fit(X_tr, y_train)\n",
        "top_20_features_bow=[]\n",
        "\n",
        "for feature in vectorizer_essay.get_feature_names() :\n",
        "   top_20_features_bow.append(feature )\n",
        "\n",
        "for feature in vectorizer_School_State.get_feature_names() :\n",
        "   top_20_features_bow.append(feature )\n",
        "\n",
        "for feature in vectorizer_teacher_prefix.get_feature_names() :\n",
        "    top_20_features_bow.append(feature )\n",
        "\n",
        "for feature in vectorizer_project_grade_category .get_feature_names() :\n",
        "    top_20_features_bow.append(feature )\n",
        "\n",
        "for feature in vectorizer_clean_categories.get_feature_names() :\n",
        "    top_20_features_bow.append(feature )\n",
        "\n",
        "for feature in vectorizer_clean_subcategories.get_feature_names() :\n",
        "    top_20_features_bow.append(feature )\n",
        "\n",
        "top_20_features_bow.append(\"teacher_number_of_previously_posted_projects\")\n",
        "top_20_features_bow.append(\"price\")"
      ],
      "execution_count": 186,
      "outputs": []
    },
    {
      "cell_type": "code",
      "metadata": {
        "id": "rtMfW2mmletU",
        "colab_type": "code",
        "colab": {
          "base_uri": "https://localhost:8080/",
          "height": 417
        },
        "outputId": "88d41645-a12d-4bbb-9011-8736b76c7f05"
      },
      "source": [
        "#https://stackoverflow.com/questions/51968769/getting-feature-importance-in-naive-bayes\n",
        "#https://stackoverflow.com/questions/16486252/is-it-possible-to-use-argsort-in-descending-order\n",
        "features_list_pos = neigh_bow.feature_log_prob_[1, :].argsort()[::-1][:-1]\n",
        "top_20_positive_features=np.take(top_20_features_bow,features_list_pos )\n",
        "print('Top 20 positive features ')\n",
        "print('-----------------------------------')\n",
        "for i in range(20):\n",
        "  print(top_20_positive_features[i])"
      ],
      "execution_count": 187,
      "outputs": [
        {
          "output_type": "stream",
          "text": [
            "Top 20 positive features \n",
            "-----------------------------------\n",
            "students\n",
            "school\n",
            "my\n",
            "learning\n",
            "classroom\n",
            "the\n",
            "not\n",
            "they\n",
            "my students\n",
            "learn\n",
            "help\n",
            "many\n",
            "nannan\n",
            "we\n",
            "need\n",
            "work\n",
            "reading\n",
            "use\n",
            "love\n",
            "day\n"
          ],
          "name": "stdout"
        }
      ]
    },
    {
      "cell_type": "code",
      "metadata": {
        "id": "A3OhhfiTuwf5",
        "colab_type": "code",
        "colab": {
          "base_uri": "https://localhost:8080/",
          "height": 35
        },
        "outputId": "c0163786-552a-494e-94e7-0af8fbca0b89"
      },
      "source": [
        "len(top_20_features_bow)"
      ],
      "execution_count": 108,
      "outputs": [
        {
          "output_type": "execute_result",
          "data": {
            "text/plain": [
              "5101"
            ]
          },
          "metadata": {
            "tags": []
          },
          "execution_count": 108
        }
      ]
    },
    {
      "cell_type": "code",
      "metadata": {
        "id": "LLZvR8K1fIxq",
        "colab_type": "code",
        "colab": {
          "base_uri": "https://localhost:8080/",
          "height": 417
        },
        "outputId": "a26989e1-045c-4943-883a-8bb3a716f128"
      },
      "source": [
        "features_list_neg = neigh_bow.feature_log_prob_[0, :].argsort()[::-1][:20]\n",
        "top_20_negative_features=np.take(top_20_features_bow,features_list_neg)\n",
        "print('Top 20 negative features ')\n",
        "print('-----------------------------------')\n",
        "for i in range(20):\n",
        "  print(top_20_negative_features[i])\n"
      ],
      "execution_count": 188,
      "outputs": [
        {
          "output_type": "stream",
          "text": [
            "Top 20 negative features \n",
            "-----------------------------------\n",
            "students\n",
            "school\n",
            "learning\n",
            "my\n",
            "classroom\n",
            "not\n",
            "learn\n",
            "they\n",
            "help\n",
            "the\n",
            "my students\n",
            "nannan\n",
            "many\n",
            "we\n",
            "need\n",
            "work\n",
            "come\n",
            "love\n",
            "reading\n",
            "materials\n"
          ],
          "name": "stdout"
        }
      ]
    },
    {
      "cell_type": "markdown",
      "metadata": {
        "id": "jyltaM-ToSf3",
        "colab_type": "text"
      },
      "source": [
        "#Find the top 20 features from Set 2: TF-IDF"
      ]
    },
    {
      "cell_type": "code",
      "metadata": {
        "colab_type": "code",
        "id": "j8-toLbBol11",
        "colab": {
          "base_uri": "https://localhost:8080/",
          "height": 72
        },
        "outputId": "55ab3af3-15b1-4291-97d3-436e814c9408"
      },
      "source": [
        "from scipy.sparse import hstack\n",
        "X_tr_tfidf = hstack((X_train_essay_tfidf, X_train_state_ohe, X_train_teacher_ohe, X_train_grade_ohe, X_train_clean_categories_ohe, X_train_clean_subcategories_ohe ,X_train_teacher_number_of_previously_posted_projects_norm ,X_train_price_norm,)).tocsr()\n",
        "X_te_tfidf = hstack((X_test_essay_tfidf, X_test_state_ohe, X_test_teacher_ohe, X_test_grade_ohe,X_test_clean_categories_ohe,X_test_clean_subcategories_ohe,X_test_teacher_number_of_previously_posted_projects_norm, X_test_price_norm)).tocsr()\n",
        "\n",
        "print(\"Final Data matrix\")\n",
        "print(X_tr_tfidf.shape, y_train.shape)\n",
        "print(X_te_tfidf.shape, y_test.shape)"
      ],
      "execution_count": 189,
      "outputs": [
        {
          "output_type": "stream",
          "text": [
            "Final Data matrix\n",
            "(73196, 5101) (73196,)\n",
            "(36052, 5101) (36052,)\n"
          ],
          "name": "stdout"
        }
      ]
    },
    {
      "cell_type": "code",
      "metadata": {
        "id": "v_vt6Y6joRJU",
        "colab_type": "code",
        "colab": {}
      },
      "source": [
        "neigh_tfidf = MultinomialNB(alpha = 1e-05,class_prior=[0.5,0.5])\n",
        "neigh_tfidf.fit(X_tr_tfidf, y_train)\n",
        "top_20_features_tfidf=[]\n",
        "\n",
        "for feature in vectorizer_essay_tfidf.get_feature_names() :\n",
        "   top_20_features_tfidf.append(feature )\n",
        "\n",
        "for feature in vectorizer_School_State.get_feature_names() :\n",
        "   top_20_features_tfidf.append(feature )\n",
        "\n",
        "for feature in vectorizer_teacher_prefix.get_feature_names() :\n",
        "    top_20_features_tfidf.append(feature )\n",
        "\n",
        "for feature in vectorizer_project_grade_category .get_feature_names() :\n",
        "   top_20_features_tfidf.append(feature )\n",
        "\n",
        "for feature in vectorizer_clean_categories.get_feature_names() :\n",
        "    top_20_features_tfidf.append(feature )\n",
        "\n",
        "for feature in vectorizer_clean_subcategories.get_feature_names() :\n",
        "    top_20_features_tfidf.append(feature )\n",
        "\n",
        "top_20_features_tfidf.append(\"teacher_number_of_previously_posted_projects\")\n",
        "top_20_features_tfidf.append(\"price\")"
      ],
      "execution_count": 190,
      "outputs": []
    },
    {
      "cell_type": "code",
      "metadata": {
        "colab_type": "code",
        "id": "KZ7ZeJMCo6zk",
        "colab": {
          "base_uri": "https://localhost:8080/",
          "height": 417
        },
        "outputId": "a7c0365e-e3b1-44c8-9e42-b9cf0fa8c92d"
      },
      "source": [
        "#https://stackoverflow.com/questions/51968769/getting-feature-importance-in-naive-bayes\n",
        "#https://stackoverflow.com/questions/16486252/is-it-possible-to-use-argsort-in-descending-order\n",
        "\n",
        "\n",
        "features_list_pos = neigh_tfidf.feature_log_prob_[1, :].argsort()[::-1][:20]\n",
        "top_20_positive_features=np.take( top_20_features_tfidf,features_list_pos )\n",
        "print('Top 20 positive features ')\n",
        "print('-----------------------------------')\n",
        "for i in range(20):\n",
        "  print(top_20_positive_features[i])\n",
        "\n",
        "\n"
      ],
      "execution_count": 191,
      "outputs": [
        {
          "output_type": "stream",
          "text": [
            "Top 20 positive features \n",
            "-----------------------------------\n",
            "mrs\n",
            "literacy_language\n",
            "grades_prek_2\n",
            "math_science\n",
            "ms\n",
            "grades_3_5\n",
            "literacy\n",
            "mathematics\n",
            "literature_writing\n",
            "grades_6_8\n",
            "ca\n",
            "students\n",
            "health_sports\n",
            "specialneeds\n",
            "specialneeds\n",
            "appliedlearning\n",
            "grades_9_12\n",
            "mr\n",
            "appliedsciences\n",
            "health_wellness\n"
          ],
          "name": "stdout"
        }
      ]
    },
    {
      "cell_type": "code",
      "metadata": {
        "colab_type": "code",
        "id": "oUsqwIgOpEHe",
        "colab": {
          "base_uri": "https://localhost:8080/",
          "height": 417
        },
        "outputId": "dd72a72b-0633-47f1-85ca-38fa3d8cd39e"
      },
      "source": [
        "features_list_neg= neigh_tfidf.feature_log_prob_[0, :].argsort()[::-1][:-1]\n",
        "\n",
        "top_20_negative_features=np.take(top_20_features_tfidf,features_list_neg)\n",
        "print('Top 20 negative features ')\n",
        "print('-----------------------------------')\n",
        "for i in range(20):\n",
        "  print(top_20_negative_features[i])\n"
      ],
      "execution_count": 113,
      "outputs": [
        {
          "output_type": "stream",
          "text": [
            "Top 20 negative features \n",
            "-----------------------------------\n",
            "mrs\n",
            "literacy_language\n",
            "grades_prek_2\n",
            "math_science\n",
            "ms\n",
            "grades_3_5\n",
            "mathematics\n",
            "literacy\n",
            "literature_writing\n",
            "grades_6_8\n",
            "specialneeds\n",
            "specialneeds\n",
            "students\n",
            "ca\n",
            "health_sports\n",
            "appliedlearning\n",
            "appliedsciences\n",
            "grades_9_12\n",
            "mr\n",
            "music_arts\n"
          ],
          "name": "stdout"
        }
      ]
    },
    {
      "cell_type": "markdown",
      "metadata": {
        "id": "NHuwYKAIv1-Q",
        "colab_type": "text"
      },
      "source": [
        "#Summary"
      ]
    },
    {
      "cell_type": "code",
      "metadata": {
        "id": "EUR7276rtLuC",
        "colab_type": "code",
        "colab": {
          "base_uri": "https://localhost:8080/",
          "height": 126
        },
        "outputId": "bbc52737-902b-4fd2-c616-9abf2605911e"
      },
      "source": [
        "from prettytable import PrettyTable\n",
        "\n",
        "\n",
        "conclusion = PrettyTable()\n",
        "conclusion.field_names = [\"Vectorizer\", \"Model\", \"Hyper Parameter\", \" Test AUC\"]\n",
        "\n",
        "conclusion.add_row([\"BOW\", \"Naive Bayes\", 1e-05, 0.69076])\n",
        "conclusion.add_row([\"TFIDF\", \"Naive Bayes\", 1e-05, 0.6759])\n",
        "\n",
        "print(conclusion)"
      ],
      "execution_count": 115,
      "outputs": [
        {
          "output_type": "stream",
          "text": [
            "+------------+-------------+-----------------+-----------+\n",
            "| Vectorizer |    Model    | Hyper Parameter |  Test AUC |\n",
            "+------------+-------------+-----------------+-----------+\n",
            "|    BOW     | Naive Bayes |      1e-05      |  0.69076  |\n",
            "|   TFIDF    | Naive Bayes |      1e-05      |   0.6759  |\n",
            "+------------+-------------+-----------------+-----------+\n"
          ],
          "name": "stdout"
        }
      ]
    }
  ]
}